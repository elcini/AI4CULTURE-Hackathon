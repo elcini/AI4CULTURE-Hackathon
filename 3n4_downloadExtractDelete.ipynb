{
 "cells": [
  {
   "cell_type": "markdown",
   "metadata": {},
   "source": [
    "# 3&4 Combined\n",
    "This should download a video and then extact images delete video and move on to the next"
   ]
  },
  {
   "cell_type": "code",
   "execution_count": 1,
   "metadata": {},
   "outputs": [],
   "source": [
    "import os\n",
    "import cv2\n",
    "import requests\n",
    "import numpy as np\n",
    "import pandas as pd\n",
    "from urllib.parse import urlparse"
   ]
  },
  {
   "cell_type": "code",
   "execution_count": 2,
   "metadata": {},
   "outputs": [],
   "source": [
    "API_KEY = \"illecible\""
   ]
  },
  {
   "cell_type": "markdown",
   "metadata": {},
   "source": [
    "## Check for duplicates"
   ]
  },
  {
   "cell_type": "code",
   "execution_count": 3,
   "metadata": {},
   "outputs": [],
   "source": [
    "df_results = pd.read_csv(os.path.join(\"..\", \"data\", \"full_video_dataset_relevant.csv\"))\n"
   ]
  },
  {
   "cell_type": "code",
   "execution_count": 7,
   "metadata": {},
   "outputs": [
    {
     "data": {
      "text/html": [
       "<div>\n",
       "<style scoped>\n",
       "    .dataframe tbody tr th:only-of-type {\n",
       "        vertical-align: middle;\n",
       "    }\n",
       "\n",
       "    .dataframe tbody tr th {\n",
       "        vertical-align: top;\n",
       "    }\n",
       "\n",
       "    .dataframe thead th {\n",
       "        text-align: right;\n",
       "    }\n",
       "</style>\n",
       "<table border=\"1\" class=\"dataframe\">\n",
       "  <thead>\n",
       "    <tr style=\"text-align: right;\">\n",
       "      <th></th>\n",
       "      <th>Title</th>\n",
       "      <th>Description</th>\n",
       "      <th>Video URL</th>\n",
       "      <th>Europeana URL</th>\n",
       "      <th>Date</th>\n",
       "      <th>Subjects</th>\n",
       "      <th>Places</th>\n",
       "      <th>Provider</th>\n",
       "      <th>docs</th>\n",
       "      <th>Topic</th>\n",
       "      <th>Topic_Probability</th>\n",
       "    </tr>\n",
       "  </thead>\n",
       "  <tbody>\n",
       "    <tr>\n",
       "      <th>0</th>\n",
       "      <td>Voetbalwedstrijd Tuschinski - Cinema Royal</td>\n",
       "      <td>bioscoopjournaals waarin nederlandse onderwerp...</td>\n",
       "      <td>https://www.openbeelden.nl/media/1005717</td>\n",
       "      <td>https://www.europeana.eu/item/2051906/data_eus...</td>\n",
       "      <td>1928-01-01</td>\n",
       "      <td>association football images association football</td>\n",
       "      <td>kingdom netherlands netherlands eurozone</td>\n",
       "      <td>Netherlands Institute for Sound &amp; Vision</td>\n",
       "      <td>voetbalwedstrijd tuschinski - cinema royal [SE...</td>\n",
       "      <td>53</td>\n",
       "      <td>0.910389</td>\n",
       "    </tr>\n",
       "  </tbody>\n",
       "</table>\n",
       "</div>"
      ],
      "text/plain": [
       "                                        Title  \\\n",
       "0  Voetbalwedstrijd Tuschinski - Cinema Royal   \n",
       "\n",
       "                                         Description  \\\n",
       "0  bioscoopjournaals waarin nederlandse onderwerp...   \n",
       "\n",
       "                                  Video URL  \\\n",
       "0  https://www.openbeelden.nl/media/1005717   \n",
       "\n",
       "                                       Europeana URL        Date  \\\n",
       "0  https://www.europeana.eu/item/2051906/data_eus...  1928-01-01   \n",
       "\n",
       "                                           Subjects  \\\n",
       "0  association football images association football   \n",
       "\n",
       "                                     Places  \\\n",
       "0  kingdom netherlands netherlands eurozone   \n",
       "\n",
       "                                   Provider  \\\n",
       "0  Netherlands Institute for Sound & Vision   \n",
       "\n",
       "                                                docs  Topic  Topic_Probability  \n",
       "0  voetbalwedstrijd tuschinski - cinema royal [SE...     53           0.910389  "
      ]
     },
     "execution_count": 7,
     "metadata": {},
     "output_type": "execute_result"
    }
   ],
   "source": [
    "df_results.head(1)"
   ]
  },
  {
   "cell_type": "code",
   "execution_count": null,
   "metadata": {},
   "outputs": [
    {
     "name": "stdout",
     "output_type": "stream",
     "text": [
      "Found 0 duplicate entries based on 'Video URL'.\n"
     ]
    }
   ],
   "source": [
    "# Check for duplicates based on the 'Video URL' column\n",
    "duplicate_videos = df_results[df_results.duplicated(subset=['Video URL'], keep=False)]\n",
    "\n",
    "# Display the duplicate rows\n",
    "print(f\"Found {len(duplicate_videos)} duplicate entries based on 'Video URL'.\")\n"
   ]
  },
  {
   "cell_type": "code",
   "execution_count": null,
   "metadata": {},
   "outputs": [],
   "source": []
  },
  {
   "cell_type": "markdown",
   "metadata": {},
   "source": [
    "## START"
   ]
  },
  {
   "cell_type": "code",
   "execution_count": 10,
   "metadata": {},
   "outputs": [],
   "source": [
    "# 🔹 Define Paths\n",
    "VIDEO_FOLDER = os.path.join(\"..\", \"videos\")\n",
    "IMAGE_FOLDER = os.path.join(\"..\", \"images\")\n",
    "DATA_FOLDER = os.path.join(\"..\", \"data_info\")\n",
    "IMAGE_METADATA_FILE = os.path.join(DATA_FOLDER, \"extracted_images_metadata.csv\")\n",
    "IMAGE_QUALITY = 70  # Compression quality (0-100, higher is better)\n",
    "IMAGE_EXTENSION = \".jpg\"\n",
    "MAX_FRAMES_PER_VIDEO = 30  # Max images extracted per video\n",
    "DARK_THRESHOLD = 50  # Pixel intensity below this is considered dark (0-255)\n",
    "DARK_PERCENTAGE = 80  # % of image pixels that must be dark to be removed\n",
    "WHITE_THRESHOLD = 225  # Threshold for white images\n",
    "SIMILARITY_THRESHOLD = 0.8  # Similarity threshold for duplicate detection\n",
    "\n",
    "# 🔹 Ensure folders exist\n",
    "os.makedirs(VIDEO_FOLDER, exist_ok=True)\n",
    "os.makedirs(IMAGE_FOLDER, exist_ok=True)\n",
    "os.makedirs(DATA_FOLDER, exist_ok=True)\n",
    "\n",
    "# 🔹 Load dataset with relevant videos\n",
    "df_results = pd.read_csv(os.path.join(\"..\", \"data\", \"full_video_dataset_relevant.csv\"))\n",
    "\n",
    "# 🔹 Function to extract item ID from URL\n",
    "def extract_item_id(europeana_url):\n",
    "    path_parts = urlparse(europeana_url).path.strip(\"/\").split(\"/\")\n",
    "    return \"/\".join(path_parts[-2:]) if len(path_parts) > 1 else None\n",
    "\n",
    "# 🔹 Function to clean and format title as a safe filename\n",
    "def clean_title(title):\n",
    "    title = title.lower().replace(\" \", \"_\").replace(\"/\", \"_\")\n",
    "    return \"\".join(c for c in title if c.isalnum() or c in \"_-\")[:100]  # Safe filename, limit length\n",
    "\n",
    "# 🔹 Function to check if an image is mostly blank (dark or white)\n",
    "def is_blank_image(image, dark_threshold=DARK_THRESHOLD, dark_percentage=DARK_PERCENTAGE, white_threshold=WHITE_THRESHOLD):\n",
    "    gray = cv2.cvtColor(image, cv2.COLOR_BGR2GRAY)\n",
    "    mean_intensity = np.mean(gray)\n",
    "\n",
    "    if mean_intensity < dark_threshold or mean_intensity > white_threshold:\n",
    "        return True  # Fully black or white\n",
    "\n",
    "    num_dark_pixels = np.sum(gray < dark_threshold)\n",
    "    total_pixels = gray.size\n",
    "    dark_ratio = (num_dark_pixels / total_pixels) * 100\n",
    "\n",
    "    return dark_ratio > dark_percentage  # Remove if mostly dark\n",
    "\n",
    "# 🔹 Function to compute image histogram for duplicate detection\n",
    "def get_histogram(image):\n",
    "    hist = cv2.calcHist([image], [0], None, [256], [0, 256])\n",
    "    cv2.normalize(hist, hist)\n",
    "    return hist\n",
    "\n",
    "# 🔹 Function to get the full video duration\n",
    "def get_video_duration(video_path):\n",
    "    cap = cv2.VideoCapture(video_path)\n",
    "    fps = cap.get(cv2.CAP_PROP_FPS)\n",
    "    frame_count = cap.get(cv2.CAP_PROP_FRAME_COUNT)\n",
    "    cap.release()\n",
    "    \n",
    "    if fps > 0:\n",
    "        return int(frame_count / fps)  # Convert to seconds\n",
    "    return None  # Return None if duration cannot be calculated\n",
    "\n",
    "# 🔹 Modify extract_frames() to save images in a subfolder per video and track duration\n",
    "def extract_frames(video_path, video_title, europeana_url, video_duration):\n",
    "    cap = cv2.VideoCapture(video_path)\n",
    "    fps = int(cap.get(cv2.CAP_PROP_FPS))\n",
    "    frame_interval = fps * 10  # Every 10 seconds\n",
    "    start_frame = fps * 3  # Start at 3rd second\n",
    "\n",
    "    frame_count = 0\n",
    "    saved_frames = 0\n",
    "    previous_histogram = None\n",
    "    extracted_images = []\n",
    "\n",
    "    # 🔹 Create a subfolder inside the image folder for this video\n",
    "    video_image_folder = os.path.join(IMAGE_FOLDER, video_title)\n",
    "    os.makedirs(video_image_folder, exist_ok=True)\n",
    "\n",
    "    while cap.isOpened():\n",
    "        ret, frame = cap.read()\n",
    "        if not ret or saved_frames >= MAX_FRAMES_PER_VIDEO:\n",
    "            break\n",
    "\n",
    "        if frame_count >= start_frame and (frame_count - start_frame) % frame_interval == 0:\n",
    "            timestamp_seconds = frame_count // fps\n",
    "            frame_filename = f\"{video_title}_{timestamp_seconds}{IMAGE_EXTENSION}\"\n",
    "            frame_path = os.path.join(video_image_folder, frame_filename)\n",
    "\n",
    "            if is_blank_image(frame):\n",
    "                frame_count += 1\n",
    "                continue  \n",
    "\n",
    "            current_histogram = get_histogram(frame)\n",
    "            if previous_histogram is not None:\n",
    "                similarity = cv2.compareHist(previous_histogram, current_histogram, cv2.HISTCMP_CORREL)\n",
    "                if similarity > SIMILARITY_THRESHOLD:\n",
    "                    frame_count += 1\n",
    "                    continue  \n",
    "\n",
    "            previous_histogram = current_histogram  \n",
    "            cv2.imwrite(frame_path, frame, [cv2.IMWRITE_JPEG_QUALITY, IMAGE_QUALITY])  \n",
    "\n",
    "            extracted_images.append({\n",
    "                \"Image\": frame_filename,\n",
    "                \"Video\": video_title,\n",
    "                \"Second\": timestamp_seconds,\n",
    "                \"Path\": frame_path,\n",
    "                \"Europeana URL\": europeana_url,\n",
    "                \"Video Duration (seconds)\": video_duration  # 🔹 Add duration to metadata\n",
    "            })\n",
    "            saved_frames += 1\n",
    "\n",
    "        frame_count += 1\n",
    "\n",
    "    cap.release()\n",
    "    return extracted_images\n",
    "\n",
    "# 🔹 Modify process_video() to pass the URL and get video duration\n",
    "def process_video(europeana_url, title):\n",
    "    item_id = extract_item_id(europeana_url)\n",
    "    if not item_id:\n",
    "        print(f\"❌ Invalid URL format: {europeana_url}\")\n",
    "        return []\n",
    "\n",
    "    metadata_url = f\"https://api.europeana.eu/record/v2/{item_id}.json\"\n",
    "    response = requests.get(metadata_url, params={\"wskey\": API_KEY})\n",
    "\n",
    "    if response.status_code == 200:\n",
    "        data = response.json()\n",
    "        aggregation = data.get(\"object\", {}).get(\"aggregations\", [{}])[0]\n",
    "        video_url = aggregation.get(\"edmIsShownBy\", \"Unknown\")\n",
    "\n",
    "        if video_url != \"Unknown\":\n",
    "            video_filename = os.path.join(VIDEO_FOLDER, f\"{clean_title(title)}.mp4\")\n",
    "            print(f\"⬇️ Downloading: {video_url} -> {video_filename}\")\n",
    "\n",
    "            video_response = requests.get(video_url, stream=True)\n",
    "            if video_response.status_code == 200:\n",
    "                with open(video_filename, \"wb\") as video_file:\n",
    "                    for chunk in video_response.iter_content(chunk_size=1024):\n",
    "                        video_file.write(chunk)\n",
    "                print(f\"✅ Downloaded: {video_filename}\")\n",
    "\n",
    "                # 🔹 Get video duration\n",
    "                video_duration = get_video_duration(video_filename)\n",
    "\n",
    "                # 🔹 Extract images & pass the original URL and duration\n",
    "                extracted_images = extract_frames(video_filename, clean_title(title), europeana_url, video_duration)\n",
    "\n",
    "                # 🔹 Delete video after processing\n",
    "                os.remove(video_filename)\n",
    "                print(f\"🗑️ Deleted video: {video_filename}\")\n",
    "\n",
    "                return extracted_images\n",
    "            else:\n",
    "                print(f\"❌ Failed to download video, Status Code: {video_response.status_code}\")\n",
    "        else:\n",
    "            print(f\"⚠️ No video URL found for {europeana_url}\")\n",
    "    else:\n",
    "        print(f\"❌ Failed to fetch item {item_id} from Europeana API, Status Code: {response.status_code}\")\n",
    "\n",
    "    return []\n",
    "\n",
    "# 🔹 Process multiple videos in a loop\n",
    "def process_all_videos(df):\n",
    "    image_data = []\n",
    "    processed_videos = 0\n",
    "\n",
    "    for _, row in df.iterrows():\n",
    "        extracted_images = process_video(row[\"Europeana URL\"], row[\"Title\"])\n",
    "        image_data.extend(extracted_images)\n",
    "        processed_videos += 1\n",
    "\n",
    "        # Print progress every 100 videos\n",
    "        if processed_videos % 100 == 0:\n",
    "            print(f\"✅ Processed {processed_videos} videos...\")\n",
    "\n",
    "    # 🔹 Save extracted image metadata\n",
    "    df_images = pd.DataFrame(image_data)\n",
    "    df_images.to_csv(IMAGE_METADATA_FILE, index=False)\n",
    "    print(f\"✅ Saved metadata for {len(df_images)} images to '{IMAGE_METADATA_FILE}'.\")\n",
    "\n",
    "\n"
   ]
  },
  {
   "cell_type": "code",
   "execution_count": null,
   "metadata": {},
   "outputs": [],
   "source": [
    "# 🔹 Run the full pipeline\n",
    "process_all_videos(df_results)\n",
    "print(f\"✅ All videos processed and images extracted.\")"
   ]
  },
  {
   "cell_type": "code",
   "execution_count": null,
   "metadata": {},
   "outputs": [],
   "source": []
  },
  {
   "cell_type": "markdown",
   "metadata": {},
   "source": [
    "## 2nd Go"
   ]
  },
  {
   "cell_type": "code",
   "execution_count": 9,
   "metadata": {},
   "outputs": [],
   "source": [
    "pd.set_option('display.max_colwidth', 500)\n",
    "pd.set_option('display.max_columns', None)"
   ]
  },
  {
   "cell_type": "code",
   "execution_count": 6,
   "metadata": {},
   "outputs": [
    {
     "data": {
      "text/html": [
       "<div>\n",
       "<style scoped>\n",
       "    .dataframe tbody tr th:only-of-type {\n",
       "        vertical-align: middle;\n",
       "    }\n",
       "\n",
       "    .dataframe tbody tr th {\n",
       "        vertical-align: top;\n",
       "    }\n",
       "\n",
       "    .dataframe thead th {\n",
       "        text-align: right;\n",
       "    }\n",
       "</style>\n",
       "<table border=\"1\" class=\"dataframe\">\n",
       "  <thead>\n",
       "    <tr style=\"text-align: right;\">\n",
       "      <th></th>\n",
       "      <th>Title</th>\n",
       "      <th>Description</th>\n",
       "      <th>Video URL</th>\n",
       "      <th>Europeana URL</th>\n",
       "      <th>Date</th>\n",
       "      <th>Subjects</th>\n",
       "      <th>Places</th>\n",
       "      <th>Provider</th>\n",
       "      <th>docs</th>\n",
       "      <th>Topic</th>\n",
       "      <th>Topic_Probability</th>\n",
       "    </tr>\n",
       "  </thead>\n",
       "  <tbody>\n",
       "    <tr>\n",
       "      <th>0</th>\n",
       "      <td>Voetbalwedstrijd Tuschinski - Cinema Royal</td>\n",
       "      <td>bioscoopjournaals waarin nederlandse onderwerpen bepaalde gepresenteerd</td>\n",
       "      <td>https://www.openbeelden.nl/media/1005717</td>\n",
       "      <td>https://www.europeana.eu/item/2051906/data_euscreenXL_https___www_openbeelden_nl_media_1005717?utm_source=api&amp;utm_medium=api&amp;utm_campaign=illecible</td>\n",
       "      <td>1928-01-01</td>\n",
       "      <td>association football images association football</td>\n",
       "      <td>kingdom netherlands netherlands eurozone</td>\n",
       "      <td>Netherlands Institute for Sound &amp; Vision</td>\n",
       "      <td>voetbalwedstrijd tuschinski - cinema royal [SEP] bioscoopjournaals waarin nederlandse onderwerpen bepaalde gepresenteerd [SEP] association football images association football [SEP] kingdom netherlands netherlands eurozone</td>\n",
       "      <td>53</td>\n",
       "      <td>0.910389</td>\n",
       "    </tr>\n",
       "  </tbody>\n",
       "</table>\n",
       "</div>"
      ],
      "text/plain": [
       "                                        Title  \\\n",
       "0  Voetbalwedstrijd Tuschinski - Cinema Royal   \n",
       "\n",
       "                                                               Description  \\\n",
       "0  bioscoopjournaals waarin nederlandse onderwerpen bepaalde gepresenteerd   \n",
       "\n",
       "                                  Video URL  \\\n",
       "0  https://www.openbeelden.nl/media/1005717   \n",
       "\n",
       "                                                                                                                                         Europeana URL  \\\n",
       "0  https://www.europeana.eu/item/2051906/data_euscreenXL_https___www_openbeelden_nl_media_1005717?utm_source=api&utm_medium=api&utm_campaign=illecible   \n",
       "\n",
       "         Date                                          Subjects  \\\n",
       "0  1928-01-01  association football images association football   \n",
       "\n",
       "                                     Places  \\\n",
       "0  kingdom netherlands netherlands eurozone   \n",
       "\n",
       "                                   Provider  \\\n",
       "0  Netherlands Institute for Sound & Vision   \n",
       "\n",
       "                                                                                                                                                                                                                             docs  \\\n",
       "0  voetbalwedstrijd tuschinski - cinema royal [SEP] bioscoopjournaals waarin nederlandse onderwerpen bepaalde gepresenteerd [SEP] association football images association football [SEP] kingdom netherlands netherlands eurozone   \n",
       "\n",
       "   Topic  Topic_Probability  \n",
       "0     53           0.910389  "
      ]
     },
     "execution_count": 6,
     "metadata": {},
     "output_type": "execute_result"
    }
   ],
   "source": [
    "df_results.head(1)"
   ]
  },
  {
   "cell_type": "code",
   "execution_count": 8,
   "metadata": {},
   "outputs": [
    {
     "name": "stdout",
     "output_type": "stream",
     "text": [
      "✅ Found 'motorwedstrijden op de grasbaan' at index 2292\n"
     ]
    }
   ],
   "source": [
    "# 🔹 Define Paths\n",
    "DATA_FOLDER = os.path.join(\"..\", \"data\")\n",
    "VIDEO_FOLDER = os.path.join(\"..\", \"videos\")\n",
    "IMAGE_FOLDER = os.path.join(\"..\", \"images\")\n",
    "IMAGE_METADATA_FILE = os.path.join(\"..\", \"data_info\", \"extracted_images_metadata.csv\")\n",
    "\n",
    "# 🔹 Load dataset\n",
    "file_path = os.path.join(DATA_FOLDER, \"full_video_dataset_relevant.csv\")\n",
    "if not os.path.exists(file_path):\n",
    "    print(f\"❌ File not found: {file_path}\")\n",
    "    # exit()\n",
    "\n",
    "df_results = pd.read_csv(file_path)\n",
    "\n",
    "# 🔹 Normalize title column to lowercase for case-insensitive search\n",
    "df_results['Title_lower'] = df_results['Title'].str.lower()\n",
    "\n",
    "# 🔹 Find the last processed title (case-insensitive)\n",
    "last_processed_title = \"motorwedstrijden op de grasbaan\"\n",
    "index_match = df_results[df_results['Title_lower'] == last_processed_title.lower()].index\n",
    "\n",
    "if not index_match.empty:\n",
    "    last_index = index_match[0]  # Get the first matching index\n",
    "    print(f\"✅ Found '{last_processed_title}' at index {last_index}\")\n",
    "else:\n",
    "    print(f\"❌ Title '{last_processed_title}' not found in dataset.\")\n",
    "    #exit()\n"
   ]
  },
  {
   "cell_type": "code",
   "execution_count": null,
   "metadata": {},
   "outputs": [],
   "source": [
    "# 🔹 Process remaining videos\n",
    "df_remaining = df_results.iloc[last_index + 1:]  # Select remaining rows\n",
    "\n",
    "# Function to process the videos\n",
    "def process_all_videos(df):\n",
    "    for _, row in df.iterrows():\n",
    "        extracted_images = process_video(row[\"Europeana URL\"], row[\"Title\"])\n",
    "\n",
    "# Run the remaining processing\n",
    "process_all_videos(df_remaining)\n",
    "print(\"✅ All remaining videos processed.\")"
   ]
  },
  {
   "cell_type": "code",
   "execution_count": null,
   "metadata": {},
   "outputs": [],
   "source": []
  },
  {
   "cell_type": "markdown",
   "metadata": {},
   "source": [
    "# Data "
   ]
  },
  {
   "cell_type": "code",
   "execution_count": 4,
   "metadata": {},
   "outputs": [
    {
     "data": {
      "text/html": [
       "<div>\n",
       "<style scoped>\n",
       "    .dataframe tbody tr th:only-of-type {\n",
       "        vertical-align: middle;\n",
       "    }\n",
       "\n",
       "    .dataframe tbody tr th {\n",
       "        vertical-align: top;\n",
       "    }\n",
       "\n",
       "    .dataframe thead th {\n",
       "        text-align: right;\n",
       "    }\n",
       "</style>\n",
       "<table border=\"1\" class=\"dataframe\">\n",
       "  <thead>\n",
       "    <tr style=\"text-align: right;\">\n",
       "      <th></th>\n",
       "      <th>Title</th>\n",
       "      <th>Description</th>\n",
       "      <th>Video URL</th>\n",
       "      <th>Europeana URL</th>\n",
       "      <th>Date</th>\n",
       "      <th>Subjects</th>\n",
       "      <th>Places</th>\n",
       "      <th>Provider</th>\n",
       "      <th>docs</th>\n",
       "      <th>Topic</th>\n",
       "      <th>Topic_Probability</th>\n",
       "    </tr>\n",
       "  </thead>\n",
       "  <tbody>\n",
       "    <tr>\n",
       "      <th>0</th>\n",
       "      <td>Voetbalwedstrijd Tuschinski - Cinema Royal</td>\n",
       "      <td>bioscoopjournaals waarin nederlandse onderwerp...</td>\n",
       "      <td>https://www.openbeelden.nl/media/1005717</td>\n",
       "      <td>https://www.europeana.eu/item/2051906/data_eus...</td>\n",
       "      <td>1928-01-01</td>\n",
       "      <td>association football images association football</td>\n",
       "      <td>kingdom netherlands netherlands eurozone</td>\n",
       "      <td>Netherlands Institute for Sound &amp; Vision</td>\n",
       "      <td>voetbalwedstrijd tuschinski - cinema royal [SE...</td>\n",
       "      <td>53</td>\n",
       "      <td>0.910389</td>\n",
       "    </tr>\n",
       "  </tbody>\n",
       "</table>\n",
       "</div>"
      ],
      "text/plain": [
       "                                        Title  \\\n",
       "0  Voetbalwedstrijd Tuschinski - Cinema Royal   \n",
       "\n",
       "                                         Description  \\\n",
       "0  bioscoopjournaals waarin nederlandse onderwerp...   \n",
       "\n",
       "                                  Video URL  \\\n",
       "0  https://www.openbeelden.nl/media/1005717   \n",
       "\n",
       "                                       Europeana URL        Date  \\\n",
       "0  https://www.europeana.eu/item/2051906/data_eus...  1928-01-01   \n",
       "\n",
       "                                           Subjects  \\\n",
       "0  association football images association football   \n",
       "\n",
       "                                     Places  \\\n",
       "0  kingdom netherlands netherlands eurozone   \n",
       "\n",
       "                                   Provider  \\\n",
       "0  Netherlands Institute for Sound & Vision   \n",
       "\n",
       "                                                docs  Topic  Topic_Probability  \n",
       "0  voetbalwedstrijd tuschinski - cinema royal [SE...     53           0.910389  "
      ]
     },
     "execution_count": 4,
     "metadata": {},
     "output_type": "execute_result"
    }
   ],
   "source": [
    "df_results.head(1)"
   ]
  },
  {
   "cell_type": "code",
   "execution_count": 5,
   "metadata": {},
   "outputs": [
    {
     "data": {
      "text/plain": [
       "3593"
      ]
     },
     "execution_count": 5,
     "metadata": {},
     "output_type": "execute_result"
    }
   ],
   "source": [
    "len(df_results)"
   ]
  },
  {
   "cell_type": "code",
   "execution_count": 6,
   "metadata": {},
   "outputs": [],
   "source": [
    "import pandas as pd\n",
    "import os\n",
    "\n",
    "IMAGE_METADATA_FILE = os.path.join(\"..\", \"data_info\", \"extracted_images_metadata.csv\")\n",
    "\n",
    "# Read the CSV file as a DataFrame\n",
    "df_image = pd.read_csv(IMAGE_METADATA_FILE)\n"
   ]
  },
  {
   "cell_type": "code",
   "execution_count": 10,
   "metadata": {},
   "outputs": [
    {
     "data": {
      "text/html": [
       "<div>\n",
       "<style scoped>\n",
       "    .dataframe tbody tr th:only-of-type {\n",
       "        vertical-align: middle;\n",
       "    }\n",
       "\n",
       "    .dataframe tbody tr th {\n",
       "        vertical-align: top;\n",
       "    }\n",
       "\n",
       "    .dataframe thead th {\n",
       "        text-align: right;\n",
       "    }\n",
       "</style>\n",
       "<table border=\"1\" class=\"dataframe\">\n",
       "  <thead>\n",
       "    <tr style=\"text-align: right;\">\n",
       "      <th></th>\n",
       "      <th>Image</th>\n",
       "      <th>Video</th>\n",
       "      <th>Second</th>\n",
       "      <th>Path</th>\n",
       "    </tr>\n",
       "  </thead>\n",
       "  <tbody>\n",
       "    <tr>\n",
       "      <th>0</th>\n",
       "      <td>2051906_data_euscreenXL_https___www_openbeelden_nl_media_1005287_3.jpg</td>\n",
       "      <td>2051906_data_euscreenXL_https___www_openbeelden_nl_media_1005287</td>\n",
       "      <td>3</td>\n",
       "      <td>../data_info/frames\\2051906_data_euscreenXL_https___www_openbeelden_nl_media_1005287\\2051906_data_euscreenXL_https___www_openbeelden_nl_media_1005287_3.jpg</td>\n",
       "    </tr>\n",
       "  </tbody>\n",
       "</table>\n",
       "</div>"
      ],
      "text/plain": [
       "                                                                    Image  \\\n",
       "0  2051906_data_euscreenXL_https___www_openbeelden_nl_media_1005287_3.jpg   \n",
       "\n",
       "                                                              Video  Second  \\\n",
       "0  2051906_data_euscreenXL_https___www_openbeelden_nl_media_1005287       3   \n",
       "\n",
       "                                                                                                                                                          Path  \n",
       "0  ../data_info/frames\\2051906_data_euscreenXL_https___www_openbeelden_nl_media_1005287\\2051906_data_euscreenXL_https___www_openbeelden_nl_media_1005287_3.jpg  "
      ]
     },
     "execution_count": 10,
     "metadata": {},
     "output_type": "execute_result"
    }
   ],
   "source": [
    "df_image.head(1)"
   ]
  },
  {
   "cell_type": "code",
   "execution_count": 8,
   "metadata": {},
   "outputs": [
    {
     "data": {
      "text/plain": [
       "1004"
      ]
     },
     "execution_count": 8,
     "metadata": {},
     "output_type": "execute_result"
    }
   ],
   "source": [
    "len(df_image)"
   ]
  },
  {
   "cell_type": "code",
   "execution_count": 21,
   "metadata": {},
   "outputs": [],
   "source": [
    "# Define the base directory\n",
    "IMAGE_BASE_DIR = os.path.join(\"..\", \"images\")\n",
    "\n",
    "# Initialize an empty list to store metadata\n",
    "image_metadata = []\n",
    "\n",
    "# Iterate over all folders in the images directory\n",
    "for video_title in os.listdir(IMAGE_BASE_DIR):\n",
    "    video_path = os.path.join(IMAGE_BASE_DIR, video_title)\n",
    "    \n",
    "    # Check if it's a directory (a video folder)\n",
    "    if os.path.isdir(video_path):\n",
    "        # Iterate over images in the video folder\n",
    "        for image_name in os.listdir(video_path):\n",
    "            if image_name.lower().endswith((\".jpeg\", \".jpg\", \".png\")):  # Ensure it's a JPEG image\n",
    "                relative_path = os.path.join(\"..\", \"images\", video_title, image_name)\n",
    "                \n",
    "                # Append metadata to the list\n",
    "                image_metadata.append({\n",
    "                    \"Video\": video_title,\n",
    "                    \"Image\": image_name,\n",
    "                    \"Path\": relative_path\n",
    "                })\n",
    "\n",
    "# Convert to DataFrame\n",
    "df_image = pd.DataFrame(image_metadata)\n",
    "\n",
    "# Save to CSV\n",
    "output_file = os.path.join(\"..\", \"data\", \"extracted_images_metadata.csv\")\n",
    "df_image.to_csv(output_file, index=False, encoding=\"utf-8\")\n",
    "\n"
   ]
  },
  {
   "cell_type": "code",
   "execution_count": 25,
   "metadata": {},
   "outputs": [
    {
     "data": {
      "text/html": [
       "<div>\n",
       "<style scoped>\n",
       "    .dataframe tbody tr th:only-of-type {\n",
       "        vertical-align: middle;\n",
       "    }\n",
       "\n",
       "    .dataframe tbody tr th {\n",
       "        vertical-align: top;\n",
       "    }\n",
       "\n",
       "    .dataframe thead th {\n",
       "        text-align: right;\n",
       "    }\n",
       "</style>\n",
       "<table border=\"1\" class=\"dataframe\">\n",
       "  <thead>\n",
       "    <tr style=\"text-align: right;\">\n",
       "      <th></th>\n",
       "      <th>Video</th>\n",
       "      <th>Image</th>\n",
       "      <th>Path</th>\n",
       "    </tr>\n",
       "  </thead>\n",
       "  <tbody>\n",
       "    <tr>\n",
       "      <th>0</th>\n",
       "      <td>10-jarig_bestaan_bio-vacantie_oord</td>\n",
       "      <td>10-jarig_bestaan_bio-vacantie_oord_103.jpg</td>\n",
       "      <td>..\\images\\10-jarig_bestaan_bio-vacantie_oord\\10-jarig_bestaan_bio-vacantie_oord_103.jpg</td>\n",
       "    </tr>\n",
       "    <tr>\n",
       "      <th>1</th>\n",
       "      <td>10-jarig_bestaan_bio-vacantie_oord</td>\n",
       "      <td>10-jarig_bestaan_bio-vacantie_oord_113.jpg</td>\n",
       "      <td>..\\images\\10-jarig_bestaan_bio-vacantie_oord\\10-jarig_bestaan_bio-vacantie_oord_113.jpg</td>\n",
       "    </tr>\n",
       "    <tr>\n",
       "      <th>2</th>\n",
       "      <td>10-jarig_bestaan_bio-vacantie_oord</td>\n",
       "      <td>10-jarig_bestaan_bio-vacantie_oord_63.jpg</td>\n",
       "      <td>..\\images\\10-jarig_bestaan_bio-vacantie_oord\\10-jarig_bestaan_bio-vacantie_oord_63.jpg</td>\n",
       "    </tr>\n",
       "    <tr>\n",
       "      <th>3</th>\n",
       "      <td>10-jarig_bestaan_bio-vacantie_oord</td>\n",
       "      <td>10-jarig_bestaan_bio-vacantie_oord_93.jpg</td>\n",
       "      <td>..\\images\\10-jarig_bestaan_bio-vacantie_oord\\10-jarig_bestaan_bio-vacantie_oord_93.jpg</td>\n",
       "    </tr>\n",
       "    <tr>\n",
       "      <th>4</th>\n",
       "      <td>10-jarig_bestaan_van_de_school_voor_reserveofficieren_der_infanterie</td>\n",
       "      <td>10-jarig_bestaan_van_de_school_voor_reserveofficieren_der_infanterie_113.jpg</td>\n",
       "      <td>..\\images\\10-jarig_bestaan_van_de_school_voor_reserveofficieren_der_infanterie\\10-jarig_bestaan_van_de_school_voor_reserveofficieren_der_infanterie_113.jpg</td>\n",
       "    </tr>\n",
       "  </tbody>\n",
       "</table>\n",
       "</div>"
      ],
      "text/plain": [
       "                                                                  Video  \\\n",
       "0                                    10-jarig_bestaan_bio-vacantie_oord   \n",
       "1                                    10-jarig_bestaan_bio-vacantie_oord   \n",
       "2                                    10-jarig_bestaan_bio-vacantie_oord   \n",
       "3                                    10-jarig_bestaan_bio-vacantie_oord   \n",
       "4  10-jarig_bestaan_van_de_school_voor_reserveofficieren_der_infanterie   \n",
       "\n",
       "                                                                          Image  \\\n",
       "0                                    10-jarig_bestaan_bio-vacantie_oord_103.jpg   \n",
       "1                                    10-jarig_bestaan_bio-vacantie_oord_113.jpg   \n",
       "2                                     10-jarig_bestaan_bio-vacantie_oord_63.jpg   \n",
       "3                                     10-jarig_bestaan_bio-vacantie_oord_93.jpg   \n",
       "4  10-jarig_bestaan_van_de_school_voor_reserveofficieren_der_infanterie_113.jpg   \n",
       "\n",
       "                                                                                                                                                          Path  \n",
       "0                                                                      ..\\images\\10-jarig_bestaan_bio-vacantie_oord\\10-jarig_bestaan_bio-vacantie_oord_103.jpg  \n",
       "1                                                                      ..\\images\\10-jarig_bestaan_bio-vacantie_oord\\10-jarig_bestaan_bio-vacantie_oord_113.jpg  \n",
       "2                                                                       ..\\images\\10-jarig_bestaan_bio-vacantie_oord\\10-jarig_bestaan_bio-vacantie_oord_63.jpg  \n",
       "3                                                                       ..\\images\\10-jarig_bestaan_bio-vacantie_oord\\10-jarig_bestaan_bio-vacantie_oord_93.jpg  \n",
       "4  ..\\images\\10-jarig_bestaan_van_de_school_voor_reserveofficieren_der_infanterie\\10-jarig_bestaan_van_de_school_voor_reserveofficieren_der_infanterie_113.jpg  "
      ]
     },
     "execution_count": 25,
     "metadata": {},
     "output_type": "execute_result"
    }
   ],
   "source": [
    "df_image.head(5)"
   ]
  },
  {
   "cell_type": "code",
   "execution_count": 23,
   "metadata": {},
   "outputs": [
    {
     "data": {
      "text/plain": [
       "19410"
      ]
     },
     "execution_count": 23,
     "metadata": {},
     "output_type": "execute_result"
    }
   ],
   "source": [
    "len(df_image)"
   ]
  },
  {
   "cell_type": "code",
   "execution_count": 24,
   "metadata": {},
   "outputs": [
    {
     "data": {
      "text/plain": [
       "3166"
      ]
     },
     "execution_count": 24,
     "metadata": {},
     "output_type": "execute_result"
    }
   ],
   "source": [
    "len(df_image[\"Video\"].value_counts())"
   ]
  },
  {
   "cell_type": "markdown",
   "metadata": {},
   "source": [
    "Windows: 19.410 Files, 3.392 Folders, so some folders ( name after videos) have the same name somehow?"
   ]
  },
  {
   "cell_type": "markdown",
   "metadata": {},
   "source": [
    "## Clean Data"
   ]
  },
  {
   "cell_type": "code",
   "execution_count": 26,
   "metadata": {},
   "outputs": [],
   "source": [
    "# Assuming df_image is already loaded\n",
    "# Reorder columns: Image, Path, Video\n",
    "df_image = df_image[['Image', 'Path', 'Video']]\n",
    "\n",
    "# Function to extract the second timestamp\n",
    "def extract_time(image_name):\n",
    "    # Remove file extension\n",
    "    image_name = os.path.splitext(image_name)[0]\n",
    "    # Extract the last numeric part after the last '_'\n",
    "    timestamp = image_name.split(\"_\")[-1]\n",
    "    # Convert to integer (fallback to 0 if error)\n",
    "    return int(timestamp) if timestamp.isdigit() else 0\n",
    "\n",
    "# Apply extraction function\n",
    "df_image[\"Time\"] = df_image[\"Image\"].apply(extract_time)\n",
    "\n",
    "# Convert time to mm:ss format\n",
    "df_image[\"Time_Formatted\"] = df_image[\"Time\"].apply(lambda x: f\"{x // 60}:{x % 60:02}\")"
   ]
  },
  {
   "cell_type": "code",
   "execution_count": null,
   "metadata": {},
   "outputs": [],
   "source": [
    "# Remove file extension from Image column\n",
    "df_image[\"Image\"] = df_image[\"Image\"].apply(lambda x: os.path.splitext(x)[0])\n",
    "\n",
    "# Save the updated DataFrame\n",
    "output_file = os.path.join(\"..\", \"data\", \"extracted_images_metadata.csv\")\n",
    "df_image.to_csv(output_file, index=False, encoding=\"utf-8\")\n"
   ]
  },
  {
   "cell_type": "code",
   "execution_count": 30,
   "metadata": {},
   "outputs": [],
   "source": [
    "# Replace underscores with spaces in Image and Video columns\n",
    "df_image[\"Image\"] = df_image[\"Image\"].str.replace(\"_\", \" \", regex=False)\n",
    "df_image[\"Video\"] = df_image[\"Video\"].str.replace(\"_\", \" \", regex=False)\n",
    "\n",
    "# Save the updated DataFrame\n",
    "output_file = os.path.join(\"..\", \"data_info\", \"updated_extracted_images_metadata_cleaned.csv\")\n",
    "df_image.to_csv(output_file, index=False, encoding=\"utf-8\")"
   ]
  },
  {
   "cell_type": "code",
   "execution_count": 31,
   "metadata": {},
   "outputs": [
    {
     "data": {
      "text/html": [
       "<div>\n",
       "<style scoped>\n",
       "    .dataframe tbody tr th:only-of-type {\n",
       "        vertical-align: middle;\n",
       "    }\n",
       "\n",
       "    .dataframe tbody tr th {\n",
       "        vertical-align: top;\n",
       "    }\n",
       "\n",
       "    .dataframe thead th {\n",
       "        text-align: right;\n",
       "    }\n",
       "</style>\n",
       "<table border=\"1\" class=\"dataframe\">\n",
       "  <thead>\n",
       "    <tr style=\"text-align: right;\">\n",
       "      <th></th>\n",
       "      <th>Image</th>\n",
       "      <th>Path</th>\n",
       "      <th>Video</th>\n",
       "      <th>Time</th>\n",
       "      <th>Time_Formatted</th>\n",
       "    </tr>\n",
       "  </thead>\n",
       "  <tbody>\n",
       "    <tr>\n",
       "      <th>0</th>\n",
       "      <td>10-jarig bestaan bio-vacantie oord 103</td>\n",
       "      <td>..\\images\\10-jarig_bestaan_bio-vacantie_oord\\10-jarig_bestaan_bio-vacantie_oord_103.jpg</td>\n",
       "      <td>10-jarig bestaan bio-vacantie oord</td>\n",
       "      <td>103</td>\n",
       "      <td>1:43</td>\n",
       "    </tr>\n",
       "    <tr>\n",
       "      <th>1</th>\n",
       "      <td>10-jarig bestaan bio-vacantie oord 113</td>\n",
       "      <td>..\\images\\10-jarig_bestaan_bio-vacantie_oord\\10-jarig_bestaan_bio-vacantie_oord_113.jpg</td>\n",
       "      <td>10-jarig bestaan bio-vacantie oord</td>\n",
       "      <td>113</td>\n",
       "      <td>1:53</td>\n",
       "    </tr>\n",
       "    <tr>\n",
       "      <th>2</th>\n",
       "      <td>10-jarig bestaan bio-vacantie oord 63</td>\n",
       "      <td>..\\images\\10-jarig_bestaan_bio-vacantie_oord\\10-jarig_bestaan_bio-vacantie_oord_63.jpg</td>\n",
       "      <td>10-jarig bestaan bio-vacantie oord</td>\n",
       "      <td>63</td>\n",
       "      <td>1:03</td>\n",
       "    </tr>\n",
       "    <tr>\n",
       "      <th>3</th>\n",
       "      <td>10-jarig bestaan bio-vacantie oord 93</td>\n",
       "      <td>..\\images\\10-jarig_bestaan_bio-vacantie_oord\\10-jarig_bestaan_bio-vacantie_oord_93.jpg</td>\n",
       "      <td>10-jarig bestaan bio-vacantie oord</td>\n",
       "      <td>93</td>\n",
       "      <td>1:33</td>\n",
       "    </tr>\n",
       "  </tbody>\n",
       "</table>\n",
       "</div>"
      ],
      "text/plain": [
       "                                    Image  \\\n",
       "0  10-jarig bestaan bio-vacantie oord 103   \n",
       "1  10-jarig bestaan bio-vacantie oord 113   \n",
       "2   10-jarig bestaan bio-vacantie oord 63   \n",
       "3   10-jarig bestaan bio-vacantie oord 93   \n",
       "\n",
       "                                                                                      Path  \\\n",
       "0  ..\\images\\10-jarig_bestaan_bio-vacantie_oord\\10-jarig_bestaan_bio-vacantie_oord_103.jpg   \n",
       "1  ..\\images\\10-jarig_bestaan_bio-vacantie_oord\\10-jarig_bestaan_bio-vacantie_oord_113.jpg   \n",
       "2   ..\\images\\10-jarig_bestaan_bio-vacantie_oord\\10-jarig_bestaan_bio-vacantie_oord_63.jpg   \n",
       "3   ..\\images\\10-jarig_bestaan_bio-vacantie_oord\\10-jarig_bestaan_bio-vacantie_oord_93.jpg   \n",
       "\n",
       "                                Video  Time Time_Formatted  \n",
       "0  10-jarig bestaan bio-vacantie oord   103           1:43  \n",
       "1  10-jarig bestaan bio-vacantie oord   113           1:53  \n",
       "2  10-jarig bestaan bio-vacantie oord    63           1:03  \n",
       "3  10-jarig bestaan bio-vacantie oord    93           1:33  "
      ]
     },
     "execution_count": 31,
     "metadata": {},
     "output_type": "execute_result"
    }
   ],
   "source": [
    "df_image.head(4)"
   ]
  },
  {
   "cell_type": "code",
   "execution_count": 32,
   "metadata": {},
   "outputs": [],
   "source": [
    "# Save the updated DataFrame\n",
    "output_file = os.path.join(\"..\", \"data\", \"cleaned_extracted_images_metadata.csv\")\n",
    "df_image.to_csv(output_file, index=False, encoding=\"utf-8\")"
   ]
  },
  {
   "cell_type": "code",
   "execution_count": null,
   "metadata": {},
   "outputs": [],
   "source": []
  },
  {
   "cell_type": "code",
   "execution_count": null,
   "metadata": {},
   "outputs": [],
   "source": []
  },
  {
   "cell_type": "code",
   "execution_count": null,
   "metadata": {},
   "outputs": [],
   "source": []
  },
  {
   "cell_type": "code",
   "execution_count": 34,
   "metadata": {},
   "outputs": [],
   "source": [
    "# Ensure Title column exists before proceeding\n",
    "if \"Title\" in df_results.columns:\n",
    "    # Create a lowercase version of Title\n",
    "    df_results[\"Title_Lower\"] = df_results[\"Title\"].str.lower()\n",
    "\n",
    "    # Reorder columns to place Title_Lower second\n",
    "    cols = df_results.columns.tolist()\n",
    "    cols.insert(1, cols.pop(cols.index(\"Title_Lower\")))  # Move Title_Lower to second position\n",
    "    df_results = df_results[cols]\n"
   ]
  },
  {
   "cell_type": "code",
   "execution_count": 35,
   "metadata": {},
   "outputs": [
    {
     "data": {
      "text/html": [
       "<div>\n",
       "<style scoped>\n",
       "    .dataframe tbody tr th:only-of-type {\n",
       "        vertical-align: middle;\n",
       "    }\n",
       "\n",
       "    .dataframe tbody tr th {\n",
       "        vertical-align: top;\n",
       "    }\n",
       "\n",
       "    .dataframe thead th {\n",
       "        text-align: right;\n",
       "    }\n",
       "</style>\n",
       "<table border=\"1\" class=\"dataframe\">\n",
       "  <thead>\n",
       "    <tr style=\"text-align: right;\">\n",
       "      <th></th>\n",
       "      <th>Title</th>\n",
       "      <th>Title_Lower</th>\n",
       "      <th>Description</th>\n",
       "      <th>Video URL</th>\n",
       "      <th>Europeana URL</th>\n",
       "      <th>Date</th>\n",
       "      <th>Subjects</th>\n",
       "      <th>Places</th>\n",
       "      <th>Provider</th>\n",
       "      <th>docs</th>\n",
       "      <th>Topic</th>\n",
       "      <th>Topic_Probability</th>\n",
       "    </tr>\n",
       "  </thead>\n",
       "  <tbody>\n",
       "    <tr>\n",
       "      <th>0</th>\n",
       "      <td>Voetbalwedstrijd Tuschinski - Cinema Royal</td>\n",
       "      <td>voetbalwedstrijd tuschinski - cinema royal</td>\n",
       "      <td>bioscoopjournaals waarin nederlandse onderwerpen bepaalde gepresenteerd</td>\n",
       "      <td>https://www.openbeelden.nl/media/1005717</td>\n",
       "      <td>https://www.europeana.eu/item/2051906/data_euscreenXL_https___www_openbeelden_nl_media_1005717?utm_source=api&amp;utm_medium=api&amp;utm_campaign=illecible</td>\n",
       "      <td>1928-01-01</td>\n",
       "      <td>association football images association football</td>\n",
       "      <td>kingdom netherlands netherlands eurozone</td>\n",
       "      <td>Netherlands Institute for Sound &amp; Vision</td>\n",
       "      <td>voetbalwedstrijd tuschinski - cinema royal [SEP] bioscoopjournaals waarin nederlandse onderwerpen bepaalde gepresenteerd [SEP] association football images association football [SEP] kingdom netherlands netherlands eurozone</td>\n",
       "      <td>53</td>\n",
       "      <td>0.910389</td>\n",
       "    </tr>\n",
       "  </tbody>\n",
       "</table>\n",
       "</div>"
      ],
      "text/plain": [
       "                                        Title  \\\n",
       "0  Voetbalwedstrijd Tuschinski - Cinema Royal   \n",
       "\n",
       "                                  Title_Lower  \\\n",
       "0  voetbalwedstrijd tuschinski - cinema royal   \n",
       "\n",
       "                                                               Description  \\\n",
       "0  bioscoopjournaals waarin nederlandse onderwerpen bepaalde gepresenteerd   \n",
       "\n",
       "                                  Video URL  \\\n",
       "0  https://www.openbeelden.nl/media/1005717   \n",
       "\n",
       "                                                                                                                                         Europeana URL  \\\n",
       "0  https://www.europeana.eu/item/2051906/data_euscreenXL_https___www_openbeelden_nl_media_1005717?utm_source=api&utm_medium=api&utm_campaign=illecible   \n",
       "\n",
       "         Date                                          Subjects  \\\n",
       "0  1928-01-01  association football images association football   \n",
       "\n",
       "                                     Places  \\\n",
       "0  kingdom netherlands netherlands eurozone   \n",
       "\n",
       "                                   Provider  \\\n",
       "0  Netherlands Institute for Sound & Vision   \n",
       "\n",
       "                                                                                                                                                                                                                             docs  \\\n",
       "0  voetbalwedstrijd tuschinski - cinema royal [SEP] bioscoopjournaals waarin nederlandse onderwerpen bepaalde gepresenteerd [SEP] association football images association football [SEP] kingdom netherlands netherlands eurozone   \n",
       "\n",
       "   Topic  Topic_Probability  \n",
       "0     53           0.910389  "
      ]
     },
     "execution_count": 35,
     "metadata": {},
     "output_type": "execute_result"
    }
   ],
   "source": [
    "df_results.head(1)"
   ]
  },
  {
   "cell_type": "code",
   "execution_count": 57,
   "metadata": {},
   "outputs": [],
   "source": [
    "import re\n",
    "\n",
    "# Function to clean text\n",
    "def clean_text(text):\n",
    "    if isinstance(text, str):  # Ensure it's a string\n",
    "        text = text.lower()  # Convert to lowercase\n",
    "        text = re.sub(r\"[^\\w\\s]\", \"\", text)  # Remove punctuation\n",
    "        text = re.sub(r\"[^a-zA-Z0-9\\s]\", \"\", text)  # Remove non-Latin characters\n",
    "        text = re.sub(r\"\\s+\", \" \", text).strip()  # Remove extra spaces\n",
    "        return text\n",
    "    return text  # Return original if not string\n",
    "\n",
    "# Apply cleaning to both columns\n",
    "df_image[\"Video\"] = df_image[\"Video\"].apply(clean_text)\n",
    "df_results[\"Title_Lower\"] = df_results[\"Title_Lower\"].apply(clean_text)"
   ]
  },
  {
   "cell_type": "code",
   "execution_count": 67,
   "metadata": {},
   "outputs": [],
   "source": [
    "# Save the updated DataFrame\n",
    "output_file = os.path.join(\"..\", \"data\", \"extracted_images_metadata_180225.csv\")\n",
    "df_image.to_csv(output_file, index=False, encoding=\"utf-8\")"
   ]
  },
  {
   "cell_type": "code",
   "execution_count": 68,
   "metadata": {},
   "outputs": [],
   "source": [
    "# Save the updated DataFrame\n",
    "output_file = os.path.join(\"..\", \"data\", \"df_results_cleaned_180225.csv\")\n",
    "df_results.to_csv(output_file, index=False, encoding=\"utf-8\")"
   ]
  },
  {
   "cell_type": "code",
   "execution_count": null,
   "metadata": {},
   "outputs": [],
   "source": []
  },
  {
   "cell_type": "markdown",
   "metadata": {},
   "source": [
    "## What is missing"
   ]
  },
  {
   "cell_type": "code",
   "execution_count": 58,
   "metadata": {},
   "outputs": [],
   "source": [
    "# Convert to sets for comparison\n",
    "titles_in_results = set(df_results[\"Title_Lower\"].unique())\n",
    "videos_in_images = set(df_image[\"Video\"].unique())\n",
    "\n",
    "# Find differences\n",
    "missing_in_images = titles_in_results - videos_in_images  # Present in df_results but not in df_image\n",
    "missing_in_results = videos_in_images - titles_in_results  # Present in df_image but not in df_results\n"
   ]
  },
  {
   "cell_type": "code",
   "execution_count": 59,
   "metadata": {},
   "outputs": [
    {
     "data": {
      "text/plain": [
       "230"
      ]
     },
     "execution_count": 59,
     "metadata": {},
     "output_type": "execute_result"
    }
   ],
   "source": [
    "len(missing_in_images)"
   ]
  },
  {
   "cell_type": "code",
   "execution_count": 60,
   "metadata": {},
   "outputs": [
    {
     "data": {
      "text/plain": [
       "4"
      ]
     },
     "execution_count": 60,
     "metadata": {},
     "output_type": "execute_result"
    }
   ],
   "source": [
    "len(missing_in_results)"
   ]
  },
  {
   "cell_type": "code",
   "execution_count": 61,
   "metadata": {},
   "outputs": [
    {
     "name": "stdout",
     "output_type": "stream",
     "text": [
      "First 10 values missing in df_image (from df_results):\n",
      "['het bokbier wordt binnengehaald', 'nieuws uit indonesie autodumps in batavia nederlandse rode kruis hulp in pangkalpinang tinbewerking op bangka', 'dutch east indies footage by willy mullens part 1', 'dutch east indies miscellaneous', 'begrafenis professor treub', 'biljartwedstrijd om het kampioenschap van europa', 'concert door bond amsterdam dilettanten muziek vereniging', 'handboogwedstrijd nederlandbelgi', 'bloemenfeest van het genootschap nederlanditali', 'om het wereldkampioenschap biljarten cadre']\n",
      "\n",
      "First 10 values missing in df_results (from df_image):\n",
      "['pembasmian malaria 2 3', 'pembasmian malaria 3 3', 'pembasmian malaria 1 3', 'de fransman galmiche europeesch kampioen biljarten kader 47 2']\n"
     ]
    }
   ],
   "source": [
    "# Display the first 120 elements of each set\n",
    "print(\"First 10 values missing in df_image (from df_results):\")\n",
    "print(list(missing_in_images)[:10])\n",
    "\n",
    "print(\"\\nFirst 10 values missing in df_results (from df_image):\")\n",
    "print(list(missing_in_results)[:10])\n"
   ]
  },
  {
   "cell_type": "code",
   "execution_count": 65,
   "metadata": {},
   "outputs": [
    {
     "name": "stdout",
     "output_type": "stream",
     "text": [
      "Number of unique values in df_image['Video']: 3165\n"
     ]
    }
   ],
   "source": [
    "unique_video_count = df_image[\"Video\"].nunique()\n",
    "print(f\"Number of unique values in df_image['Video']: {unique_video_count}\")\n",
    "# This is our final video count"
   ]
  },
  {
   "cell_type": "code",
   "execution_count": null,
   "metadata": {},
   "outputs": [
    {
     "name": "stdout",
     "output_type": "stream",
     "text": [
      "Number of images in df_image: 19410\n"
     ]
    }
   ],
   "source": [
    "x = str(len(df_image))\n",
    "print(f\"Number of images in df_image: {x}\")\n",
    "# Final image count"
   ]
  },
  {
   "cell_type": "code",
   "execution_count": null,
   "metadata": {},
   "outputs": [],
   "source": []
  }
 ],
 "metadata": {
  "kernelspec": {
   "display_name": "imageBert",
   "language": "python",
   "name": "python3"
  },
  "language_info": {
   "codemirror_mode": {
    "name": "ipython",
    "version": 3
   },
   "file_extension": ".py",
   "mimetype": "text/x-python",
   "name": "python",
   "nbconvert_exporter": "python",
   "pygments_lexer": "ipython3",
   "version": "3.9.21"
  }
 },
 "nbformat": 4,
 "nbformat_minor": 2
}
