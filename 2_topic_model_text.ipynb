{
 "cells": [
  {
   "cell_type": "markdown",
   "metadata": {},
   "source": [
    "# 2 Topic Model Text\n",
    "We have too much data so maybe we do a topic model and limit ourselves to certain videos"
   ]
  },
  {
   "cell_type": "code",
   "execution_count": 45,
   "metadata": {},
   "outputs": [
    {
     "name": "stderr",
     "output_type": "stream",
     "text": [
      "[nltk_data] Downloading package stopwords to\n",
      "[nltk_data]     C:\\Users\\serca\\AppData\\Roaming\\nltk_data...\n",
      "[nltk_data]   Package stopwords is already up-to-date!\n"
     ]
    },
    {
     "data": {
      "text/plain": [
       "True"
      ]
     },
     "execution_count": 45,
     "metadata": {},
     "output_type": "execute_result"
    }
   ],
   "source": [
    "import pandas as pd\n",
    "import numpy as np\n",
    "import re\n",
    "from sentence_transformers import SentenceTransformer\n",
    "from bertopic import BERTopic\n",
    "from sklearn.feature_extraction.text import ENGLISH_STOP_WORDS\n",
    "from nltk.corpus import stopwords\n",
    "import nltk\n",
    "nltk.download(\"stopwords\")\n"
   ]
  },
  {
   "cell_type": "code",
   "execution_count": 46,
   "metadata": {},
   "outputs": [],
   "source": [
    "# Load the CSV file\n",
    "df = pd.read_csv(\"../data/full_video_dataset.csv\")"
   ]
  },
  {
   "cell_type": "code",
   "execution_count": 47,
   "metadata": {},
   "outputs": [
    {
     "data": {
      "text/html": [
       "<div>\n",
       "<style scoped>\n",
       "    .dataframe tbody tr th:only-of-type {\n",
       "        vertical-align: middle;\n",
       "    }\n",
       "\n",
       "    .dataframe tbody tr th {\n",
       "        vertical-align: top;\n",
       "    }\n",
       "\n",
       "    .dataframe thead th {\n",
       "        text-align: right;\n",
       "    }\n",
       "</style>\n",
       "<table border=\"1\" class=\"dataframe\">\n",
       "  <thead>\n",
       "    <tr style=\"text-align: right;\">\n",
       "      <th></th>\n",
       "      <th>Title</th>\n",
       "      <th>Description</th>\n",
       "      <th>Video URL</th>\n",
       "      <th>Europeana URL</th>\n",
       "      <th>Date</th>\n",
       "      <th>Subjects</th>\n",
       "      <th>Places</th>\n",
       "      <th>Provider</th>\n",
       "    </tr>\n",
       "  </thead>\n",
       "  <tbody>\n",
       "    <tr>\n",
       "      <th>0</th>\n",
       "      <td>WIELERWEDSTRIJDEN IN HET VONDELPARK</td>\n",
       "      <td>Bioscoopjournaals waarin Nederlandse onderwerpen van een bepaalde week worden gepresenteerd.</td>\n",
       "      <td>https://www.openbeelden.nl/media/1005287</td>\n",
       "      <td>https://www.europeana.eu/item/2051906/data_euscreenXL_https___www_openbeelden_nl_media_1005287?utm_source=api&amp;utm_medium=api&amp;utm_campaign=illecible</td>\n",
       "      <td>1923-09-21</td>\n",
       "      <td>Road bicycle racing, moving images, road bicycle racing, Sports competition, sports competition</td>\n",
       "      <td>Kingdom of the Netherlands, The Netherlands, Eurozone</td>\n",
       "      <td>Netherlands Institute for Sound &amp; Vision</td>\n",
       "    </tr>\n",
       "    <tr>\n",
       "      <th>1</th>\n",
       "      <td>VOETBALWEDSTRIJD TUSCHINSKI - CINEMA ROYAL</td>\n",
       "      <td>Bioscoopjournaals waarin Nederlandse onderwerpen van een bepaalde week worden gepresenteerd.</td>\n",
       "      <td>https://www.openbeelden.nl/media/1005717</td>\n",
       "      <td>https://www.europeana.eu/item/2051906/data_euscreenXL_https___www_openbeelden_nl_media_1005717?utm_source=api&amp;utm_medium=api&amp;utm_campaign=illecible</td>\n",
       "      <td>1928-01-01</td>\n",
       "      <td>Association football, moving images, association football</td>\n",
       "      <td>Kingdom of the Netherlands, The Netherlands, Eurozone</td>\n",
       "      <td>Netherlands Institute for Sound &amp; Vision</td>\n",
       "    </tr>\n",
       "  </tbody>\n",
       "</table>\n",
       "</div>"
      ],
      "text/plain": [
       "                                        Title  \\\n",
       "0         WIELERWEDSTRIJDEN IN HET VONDELPARK   \n",
       "1  VOETBALWEDSTRIJD TUSCHINSKI - CINEMA ROYAL   \n",
       "\n",
       "                                                                                    Description  \\\n",
       "0  Bioscoopjournaals waarin Nederlandse onderwerpen van een bepaalde week worden gepresenteerd.   \n",
       "1  Bioscoopjournaals waarin Nederlandse onderwerpen van een bepaalde week worden gepresenteerd.   \n",
       "\n",
       "                                  Video URL  \\\n",
       "0  https://www.openbeelden.nl/media/1005287   \n",
       "1  https://www.openbeelden.nl/media/1005717   \n",
       "\n",
       "                                                                                                                                         Europeana URL  \\\n",
       "0  https://www.europeana.eu/item/2051906/data_euscreenXL_https___www_openbeelden_nl_media_1005287?utm_source=api&utm_medium=api&utm_campaign=illecible   \n",
       "1  https://www.europeana.eu/item/2051906/data_euscreenXL_https___www_openbeelden_nl_media_1005717?utm_source=api&utm_medium=api&utm_campaign=illecible   \n",
       "\n",
       "         Date  \\\n",
       "0  1923-09-21   \n",
       "1  1928-01-01   \n",
       "\n",
       "                                                                                          Subjects  \\\n",
       "0  Road bicycle racing, moving images, road bicycle racing, Sports competition, sports competition   \n",
       "1                                        Association football, moving images, association football   \n",
       "\n",
       "                                                  Places  \\\n",
       "0  Kingdom of the Netherlands, The Netherlands, Eurozone   \n",
       "1  Kingdom of the Netherlands, The Netherlands, Eurozone   \n",
       "\n",
       "                                   Provider  \n",
       "0  Netherlands Institute for Sound & Vision  \n",
       "1  Netherlands Institute for Sound & Vision  "
      ]
     },
     "execution_count": 47,
     "metadata": {},
     "output_type": "execute_result"
    }
   ],
   "source": [
    "df.head(2)"
   ]
  },
  {
   "cell_type": "markdown",
   "metadata": {},
   "source": [
    "## PREP"
   ]
  },
  {
   "cell_type": "code",
   "execution_count": 48,
   "metadata": {},
   "outputs": [],
   "source": [
    "# 🔹 Define stopwords (Dutch + English + Custom)\n",
    "custom_stopwords = set([\n",
    "    'weekjournaal', 'hollands', \"nederlands\", 'nieuws', 'polygoon', 'uit', \n",
    "    'van', 'week', 'sep', 'moving', \"de\", \"het\", \"een\", \"en\", \"voor\", \"op\", \"aan\"\n",
    "])  \n",
    "dutch_stopwords = set(stopwords.words('dutch'))  # Load Dutch stopwords\n",
    "english_stopwords = set(ENGLISH_STOP_WORDS)  # Load English stopwords\n",
    "all_stopwords = custom_stopwords | dutch_stopwords | english_stopwords  # Combine all sets\n",
    "\n",
    "# 🔹 Text preprocessing function\n",
    "def clean_text(text):\n",
    "    if pd.isna(text):  \n",
    "        return \"\"  # Handle NaN values safely\n",
    "    text = text.lower()  # Convert to lowercase\n",
    "    text = re.sub(r\"\\d+\", \"\", text)  # Remove numbers\n",
    "    text = re.sub(r\"\\b(\" + \"|\".join(all_stopwords) + r\")\\b\", \"\", text)  # Remove stopwords\n",
    "    text = re.sub(r\"[^\\w\\s]\", \"\", text)  # Remove special characters\n",
    "    text = re.sub(r\"\\s+\", \" \", text).strip()  # Remove extra spaces\n",
    "    return text\n",
    "\n",
    "# 🔹 Apply preprocessing to each text field\n",
    "df[\"Title\"] = df[\"Title\"].astype(str).apply(lambda x: x.title())  # Title case\n",
    "df[\"Description\"] = df[\"Description\"].astype(str).apply(clean_text)\n",
    "df[\"Subjects\"] = df[\"Subjects\"].astype(str).apply(clean_text)\n",
    "df[\"Places\"] = df[\"Places\"].astype(str).apply(clean_text)\n",
    "\n",
    "# 🔹 Create 'docs' column (Lowercased and joined with `[SEP]`)\n",
    "df[\"docs\"] = df.apply(\n",
    "    lambda row: f\"{row['Title'].lower()} [SEP] {row['Description']} [SEP] {row['Subjects']} [SEP] {row['Places']}\",\n",
    "    axis=1\n",
    ")\n"
   ]
  },
  {
   "cell_type": "code",
   "execution_count": 49,
   "metadata": {},
   "outputs": [
    {
     "data": {
      "text/html": [
       "<div>\n",
       "<style scoped>\n",
       "    .dataframe tbody tr th:only-of-type {\n",
       "        vertical-align: middle;\n",
       "    }\n",
       "\n",
       "    .dataframe tbody tr th {\n",
       "        vertical-align: top;\n",
       "    }\n",
       "\n",
       "    .dataframe thead th {\n",
       "        text-align: right;\n",
       "    }\n",
       "</style>\n",
       "<table border=\"1\" class=\"dataframe\">\n",
       "  <thead>\n",
       "    <tr style=\"text-align: right;\">\n",
       "      <th></th>\n",
       "      <th>Title</th>\n",
       "      <th>Description</th>\n",
       "      <th>Video URL</th>\n",
       "      <th>Europeana URL</th>\n",
       "      <th>Date</th>\n",
       "      <th>Subjects</th>\n",
       "      <th>Places</th>\n",
       "      <th>Provider</th>\n",
       "      <th>docs</th>\n",
       "    </tr>\n",
       "  </thead>\n",
       "  <tbody>\n",
       "    <tr>\n",
       "      <th>0</th>\n",
       "      <td>Wielerwedstrijden In Het Vondelpark</td>\n",
       "      <td>bioscoopjournaals waarin nederlandse onderwerpen bepaalde gepresenteerd</td>\n",
       "      <td>https://www.openbeelden.nl/media/1005287</td>\n",
       "      <td>https://www.europeana.eu/item/2051906/data_euscreenXL_https___www_openbeelden_nl_media_1005287?utm_source=api&amp;utm_medium=api&amp;utm_campaign=illecible</td>\n",
       "      <td>1923-09-21</td>\n",
       "      <td>road bicycle racing images road bicycle racing sports competition sports competition</td>\n",
       "      <td>kingdom netherlands netherlands eurozone</td>\n",
       "      <td>Netherlands Institute for Sound &amp; Vision</td>\n",
       "      <td>wielerwedstrijden in het vondelpark [SEP] bioscoopjournaals waarin nederlandse onderwerpen bepaalde gepresenteerd [SEP] road bicycle racing images road bicycle racing sports competition sports com...</td>\n",
       "    </tr>\n",
       "    <tr>\n",
       "      <th>1</th>\n",
       "      <td>Voetbalwedstrijd Tuschinski - Cinema Royal</td>\n",
       "      <td>bioscoopjournaals waarin nederlandse onderwerpen bepaalde gepresenteerd</td>\n",
       "      <td>https://www.openbeelden.nl/media/1005717</td>\n",
       "      <td>https://www.europeana.eu/item/2051906/data_euscreenXL_https___www_openbeelden_nl_media_1005717?utm_source=api&amp;utm_medium=api&amp;utm_campaign=illecible</td>\n",
       "      <td>1928-01-01</td>\n",
       "      <td>association football images association football</td>\n",
       "      <td>kingdom netherlands netherlands eurozone</td>\n",
       "      <td>Netherlands Institute for Sound &amp; Vision</td>\n",
       "      <td>voetbalwedstrijd tuschinski - cinema royal [SEP] bioscoopjournaals waarin nederlandse onderwerpen bepaalde gepresenteerd [SEP] association football images association football [SEP] kingdom nether...</td>\n",
       "    </tr>\n",
       "  </tbody>\n",
       "</table>\n",
       "</div>"
      ],
      "text/plain": [
       "                                        Title  \\\n",
       "0         Wielerwedstrijden In Het Vondelpark   \n",
       "1  Voetbalwedstrijd Tuschinski - Cinema Royal   \n",
       "\n",
       "                                                               Description  \\\n",
       "0  bioscoopjournaals waarin nederlandse onderwerpen bepaalde gepresenteerd   \n",
       "1  bioscoopjournaals waarin nederlandse onderwerpen bepaalde gepresenteerd   \n",
       "\n",
       "                                  Video URL  \\\n",
       "0  https://www.openbeelden.nl/media/1005287   \n",
       "1  https://www.openbeelden.nl/media/1005717   \n",
       "\n",
       "                                                                                                                                         Europeana URL  \\\n",
       "0  https://www.europeana.eu/item/2051906/data_euscreenXL_https___www_openbeelden_nl_media_1005287?utm_source=api&utm_medium=api&utm_campaign=illecible   \n",
       "1  https://www.europeana.eu/item/2051906/data_euscreenXL_https___www_openbeelden_nl_media_1005717?utm_source=api&utm_medium=api&utm_campaign=illecible   \n",
       "\n",
       "         Date  \\\n",
       "0  1923-09-21   \n",
       "1  1928-01-01   \n",
       "\n",
       "                                                                               Subjects  \\\n",
       "0  road bicycle racing images road bicycle racing sports competition sports competition   \n",
       "1                                      association football images association football   \n",
       "\n",
       "                                     Places  \\\n",
       "0  kingdom netherlands netherlands eurozone   \n",
       "1  kingdom netherlands netherlands eurozone   \n",
       "\n",
       "                                   Provider  \\\n",
       "0  Netherlands Institute for Sound & Vision   \n",
       "1  Netherlands Institute for Sound & Vision   \n",
       "\n",
       "                                                                                                                                                                                                      docs  \n",
       "0  wielerwedstrijden in het vondelpark [SEP] bioscoopjournaals waarin nederlandse onderwerpen bepaalde gepresenteerd [SEP] road bicycle racing images road bicycle racing sports competition sports com...  \n",
       "1  voetbalwedstrijd tuschinski - cinema royal [SEP] bioscoopjournaals waarin nederlandse onderwerpen bepaalde gepresenteerd [SEP] association football images association football [SEP] kingdom nether...  "
      ]
     },
     "execution_count": 49,
     "metadata": {},
     "output_type": "execute_result"
    }
   ],
   "source": [
    "df.head(2)"
   ]
  },
  {
   "cell_type": "code",
   "execution_count": null,
   "metadata": {},
   "outputs": [],
   "source": []
  },
  {
   "cell_type": "markdown",
   "metadata": {},
   "source": [
    "# MODEL"
   ]
  },
  {
   "cell_type": "code",
   "execution_count": 50,
   "metadata": {},
   "outputs": [
    {
     "name": "stderr",
     "output_type": "stream",
     "text": [
      "Batches: 100%|██████████| 201/201 [00:33<00:00,  5.93it/s]"
     ]
    },
    {
     "name": "stdout",
     "output_type": "stream",
     "text": [
      "✅ Saved 6421 embeddings to '../data/video_embeddings.npy'\n"
     ]
    },
    {
     "name": "stderr",
     "output_type": "stream",
     "text": [
      "\n"
     ]
    }
   ],
   "source": [
    "\n",
    "# 🔹 Initialize embedding model\n",
    "embedding_model = SentenceTransformer(\"all-MiniLM-L6-v2\")  # You can change the model if needed\n",
    "\n",
    "# 🔹 Generate embeddings\n",
    "embeddings = embedding_model.encode(df[\"docs\"].tolist(), show_progress_bar=True)\n",
    "\n",
    "# 🔹 Save embeddings to a file\n",
    "np.save(\"../data/video_embeddings.npy\", embeddings)\n",
    "\n",
    "print(f\"✅ Saved {embeddings.shape[0]} embeddings to '../data/video_embeddings.npy'\")\n"
   ]
  },
  {
   "cell_type": "code",
   "execution_count": 68,
   "metadata": {},
   "outputs": [
    {
     "name": "stderr",
     "output_type": "stream",
     "text": [
      "2025-02-17 14:55:08,859 - BERTopic - Dimensionality - Fitting the dimensionality reduction algorithm\n"
     ]
    },
    {
     "name": "stderr",
     "output_type": "stream",
     "text": [
      "2025-02-17 14:55:10,492 - BERTopic - Dimensionality - Completed ✓\n",
      "2025-02-17 14:55:10,493 - BERTopic - Cluster - Start clustering the reduced embeddings\n",
      "2025-02-17 14:55:10,648 - BERTopic - Cluster - Completed ✓\n",
      "2025-02-17 14:55:10,648 - BERTopic - Representation - Extracting topics from clusters using representation models.\n",
      "2025-02-17 14:55:10,820 - BERTopic - Representation - Completed ✓\n",
      "2025-02-17 14:55:10,821 - BERTopic - Topic reduction - Reducing number of topics\n",
      "2025-02-17 14:55:10,962 - BERTopic - Topic reduction - Reduced number of topics from 116 to 59\n"
     ]
    },
    {
     "name": "stdout",
     "output_type": "stream",
     "text": [
      "✅ Saved topic modeling results to '../data/full_video_dataset_with_topics.csv'\n"
     ]
    }
   ],
   "source": [
    "# 🔹 Load saved embeddings\n",
    "embeddings = np.load(\"../data/video_embeddings.npy\")\n",
    "\n",
    "# Initialize BERTopic WITHOUT automatic topic reduction AND verbose\n",
    "topic_model = BERTopic(language=\"multilingual\", verbose=True, nr_topics=\"auto\")  \n",
    "\n",
    "# 🔹 Fit BERTopic using precomputed embeddings\n",
    "topics, probs = topic_model.fit_transform(df[\"docs\"].tolist(), embeddings=embeddings)\n",
    "\n",
    "# 🔹 Add topics to the dataframe\n",
    "df[\"Topic\"] = topics\n",
    "df[\"Topic_Probability\"] = probs\n",
    "\n",
    "# 🔹 Save results\n",
    "df.to_csv(\"../data/full_video_dataset_with_topics.csv\", index=False)\n",
    "\n",
    "print(f\"✅ Saved topic modeling results to '../data/full_video_dataset_with_topics.csv'\")"
   ]
  },
  {
   "cell_type": "code",
   "execution_count": 69,
   "metadata": {},
   "outputs": [],
   "source": [
    "pd.set_option('display.max_colwidth', 200)\n",
    "pd.set_option('display.max_columns', None)"
   ]
  },
  {
   "cell_type": "code",
   "execution_count": 70,
   "metadata": {},
   "outputs": [
    {
     "data": {
      "text/html": [
       "<div>\n",
       "<style scoped>\n",
       "    .dataframe tbody tr th:only-of-type {\n",
       "        vertical-align: middle;\n",
       "    }\n",
       "\n",
       "    .dataframe tbody tr th {\n",
       "        vertical-align: top;\n",
       "    }\n",
       "\n",
       "    .dataframe thead th {\n",
       "        text-align: right;\n",
       "    }\n",
       "</style>\n",
       "<table border=\"1\" class=\"dataframe\">\n",
       "  <thead>\n",
       "    <tr style=\"text-align: right;\">\n",
       "      <th></th>\n",
       "      <th>Topic</th>\n",
       "      <th>Count</th>\n",
       "      <th>Name</th>\n",
       "      <th>Representation</th>\n",
       "      <th>Representative_Docs</th>\n",
       "    </tr>\n",
       "  </thead>\n",
       "  <tbody>\n",
       "    <tr>\n",
       "      <th>0</th>\n",
       "      <td>-1</td>\n",
       "      <td>2001</td>\n",
       "      <td>-1_sep_kingdom_images_netherlands</td>\n",
       "      <td>[sep, kingdom, images, netherlands, van, de, amsterdam, in, shots, het]</td>\n",
       "      <td>[bathing children in the amstel canal [SEP] newsreels dutch subjects certain presented [SEP] images [SEP] amsterdam kingdom netherlands amsterdam netherlands amsterdam kingdom netherlands, opening...</td>\n",
       "    </tr>\n",
       "    <tr>\n",
       "      <th>1</th>\n",
       "      <td>0</td>\n",
       "      <td>1319</td>\n",
       "      <td>0_sep_images_van_kingdom</td>\n",
       "      <td>[sep, images, van, kingdom, de, het, rotterdam, netherlands, quot, in]</td>\n",
       "      <td>[tewaterlating van de &amp;quot;jacob van heemskerck&amp;quot; [SEP]  [SEP] images [SEP] kingdom netherlands, nieuws uit west-indie - het vertrek van de &amp;quot;johan maurits&amp;quot; en de aankomst van de &amp;qu...</td>\n",
       "    </tr>\n",
       "    <tr>\n",
       "      <th>2</th>\n",
       "      <td>1</td>\n",
       "      <td>805</td>\n",
       "      <td>1_bioscoopjournaals_gepresenteerd_bepaalde_waarin</td>\n",
       "      <td>[bioscoopjournaals, gepresenteerd, bepaalde, waarin, onderwerpen, nederlandse, netherlands, nsbpropagandafilm, kingdom, amsterdam]</td>\n",
       "      <td>[wielerwedstrijd [SEP] bioscoopjournaals waarin nederlandse onderwerpen bepaalde gepresenteerd [SEP] images [SEP] kingdom netherlands, modeshow [SEP] bioscoopjournaals waarin nederlandse onderwerp...</td>\n",
       "    </tr>\n",
       "    <tr>\n",
       "      <th>3</th>\n",
       "      <td>2</td>\n",
       "      <td>202</td>\n",
       "      <td>2_subjects_certain_presented_newsreels</td>\n",
       "      <td>[subjects, certain, presented, newsreels, dutch, text, of, amsterdam, the, netherlands]</td>\n",
       "      <td>[mother's day [SEP] newsreels dutch subjects certain presented [SEP] images [SEP] kingdom netherlands netherlands kingdom netherlands, huishoudbeurs [SEP] newsreels dutch subjects certain presente...</td>\n",
       "    </tr>\n",
       "    <tr>\n",
       "      <th>4</th>\n",
       "      <td>3</td>\n",
       "      <td>135</td>\n",
       "      <td>3_ship_sailing_helder_ships</td>\n",
       "      <td>[ship, sailing, helder, ships, boat, sea, den, the, shots, rotterdam]</td>\n",
       "      <td>[official opening of the repair ship \"wilhelmina\". [SEP] image report opening recovery boat wilhelmina gunboat converted rehabilitation home located omval amstel skipper husband pose deck gentleme...</td>\n",
       "    </tr>\n",
       "  </tbody>\n",
       "</table>\n",
       "</div>"
      ],
      "text/plain": [
       "   Topic  Count                                               Name  \\\n",
       "0     -1   2001                  -1_sep_kingdom_images_netherlands   \n",
       "1      0   1319                           0_sep_images_van_kingdom   \n",
       "2      1    805  1_bioscoopjournaals_gepresenteerd_bepaalde_waarin   \n",
       "3      2    202             2_subjects_certain_presented_newsreels   \n",
       "4      3    135                        3_ship_sailing_helder_ships   \n",
       "\n",
       "                                                                                                                       Representation  \\\n",
       "0                                                             [sep, kingdom, images, netherlands, van, de, amsterdam, in, shots, het]   \n",
       "1                                                              [sep, images, van, kingdom, de, het, rotterdam, netherlands, quot, in]   \n",
       "2  [bioscoopjournaals, gepresenteerd, bepaalde, waarin, onderwerpen, nederlandse, netherlands, nsbpropagandafilm, kingdom, amsterdam]   \n",
       "3                                             [subjects, certain, presented, newsreels, dutch, text, of, amsterdam, the, netherlands]   \n",
       "4                                                               [ship, sailing, helder, ships, boat, sea, den, the, shots, rotterdam]   \n",
       "\n",
       "                                                                                                                                                                                       Representative_Docs  \n",
       "0  [bathing children in the amstel canal [SEP] newsreels dutch subjects certain presented [SEP] images [SEP] amsterdam kingdom netherlands amsterdam netherlands amsterdam kingdom netherlands, opening...  \n",
       "1  [tewaterlating van de &quot;jacob van heemskerck&quot; [SEP]  [SEP] images [SEP] kingdom netherlands, nieuws uit west-indie - het vertrek van de &quot;johan maurits&quot; en de aankomst van de &qu...  \n",
       "2  [wielerwedstrijd [SEP] bioscoopjournaals waarin nederlandse onderwerpen bepaalde gepresenteerd [SEP] images [SEP] kingdom netherlands, modeshow [SEP] bioscoopjournaals waarin nederlandse onderwerp...  \n",
       "3  [mother's day [SEP] newsreels dutch subjects certain presented [SEP] images [SEP] kingdom netherlands netherlands kingdom netherlands, huishoudbeurs [SEP] newsreels dutch subjects certain presente...  \n",
       "4  [official opening of the repair ship \"wilhelmina\". [SEP] image report opening recovery boat wilhelmina gunboat converted rehabilitation home located omval amstel skipper husband pose deck gentleme...  "
      ]
     },
     "execution_count": 70,
     "metadata": {},
     "output_type": "execute_result"
    }
   ],
   "source": [
    "# 🔹 Print topic overview\n",
    "topic_model.get_topic_info().to_csv(\"../data/topic_model_info.csv\", index=False)\n",
    "topic_model.get_topic_info().head(5)\n",
    "\n"
   ]
  },
  {
   "cell_type": "code",
   "execution_count": null,
   "metadata": {},
   "outputs": [],
   "source": []
  },
  {
   "cell_type": "markdown",
   "metadata": {},
   "source": [
    "# Outlier Reduction"
   ]
  },
  {
   "cell_type": "code",
   "execution_count": 71,
   "metadata": {},
   "outputs": [
    {
     "name": "stdout",
     "output_type": "stream",
     "text": [
      "🔄 Reducing outliers and reassigning topics...\n"
     ]
    }
   ],
   "source": [
    "# 🔹 Reduce outliers using the \"probabilities\" strategy\n",
    "print(\"🔄 Reducing outliers and reassigning topics...\")\n",
    "new_topics = topic_model.reduce_outliers(df[\"docs\"].tolist(), topics, probabilities=probs, strategy=\"c-tf-idf\", threshold=0.01)"
   ]
  },
  {
   "cell_type": "code",
   "execution_count": 72,
   "metadata": {},
   "outputs": [
    {
     "name": "stderr",
     "output_type": "stream",
     "text": [
      "2025-02-17 14:55:51,354 - BERTopic - WARNING: Using a custom list of topic assignments may lead to errors if topic reduction techniques are used afterwards. Make sure that manually assigning topics is the last step in the pipeline.Note that topic embeddings will also be created through weightedc-TF-IDF embeddings instead of centroid embeddings.\n"
     ]
    },
    {
     "name": "stdout",
     "output_type": "stream",
     "text": [
      "🔄 Updating topics with reassigned outliers...\n"
     ]
    }
   ],
   "source": [
    "# 🔹 Update topics in BERTopic model\n",
    "print(\"🔄 Updating topics with reassigned outliers...\")\n",
    "topic_model.update_topics(df[\"docs\"].tolist(), topics=new_topics)"
   ]
  },
  {
   "cell_type": "code",
   "execution_count": 73,
   "metadata": {},
   "outputs": [
    {
     "data": {
      "text/html": [
       "<div>\n",
       "<style scoped>\n",
       "    .dataframe tbody tr th:only-of-type {\n",
       "        vertical-align: middle;\n",
       "    }\n",
       "\n",
       "    .dataframe tbody tr th {\n",
       "        vertical-align: top;\n",
       "    }\n",
       "\n",
       "    .dataframe thead th {\n",
       "        text-align: right;\n",
       "    }\n",
       "</style>\n",
       "<table border=\"1\" class=\"dataframe\">\n",
       "  <thead>\n",
       "    <tr style=\"text-align: right;\">\n",
       "      <th></th>\n",
       "      <th>Topic</th>\n",
       "      <th>Count</th>\n",
       "      <th>Name</th>\n",
       "      <th>Representation</th>\n",
       "      <th>Representative_Docs</th>\n",
       "    </tr>\n",
       "  </thead>\n",
       "  <tbody>\n",
       "    <tr>\n",
       "      <th>0</th>\n",
       "      <td>0</td>\n",
       "      <td>2316</td>\n",
       "      <td>0_sep_images_van_de</td>\n",
       "      <td>[sep, images, van, de, kingdom, netherlands, het, quot, rotterdam, in]</td>\n",
       "      <td>[tewaterlating van de &amp;quot;jacob van heemskerck&amp;quot; [SEP]  [SEP] images [SEP] kingdom netherlands, nieuws uit west-indie - het vertrek van de &amp;quot;johan maurits&amp;quot; en de aankomst van de &amp;qu...</td>\n",
       "    </tr>\n",
       "    <tr>\n",
       "      <th>1</th>\n",
       "      <td>1</td>\n",
       "      <td>957</td>\n",
       "      <td>1_bioscoopjournaals_bepaalde_gepresenteerd_waarin</td>\n",
       "      <td>[bioscoopjournaals, bepaalde, gepresenteerd, waarin, onderwerpen, nederlandse, netherlands, amsterdam, kingdom, sep]</td>\n",
       "      <td>[wielerwedstrijd [SEP] bioscoopjournaals waarin nederlandse onderwerpen bepaalde gepresenteerd [SEP] images [SEP] kingdom netherlands, modeshow [SEP] bioscoopjournaals waarin nederlandse onderwerp...</td>\n",
       "    </tr>\n",
       "    <tr>\n",
       "      <th>2</th>\n",
       "      <td>2</td>\n",
       "      <td>327</td>\n",
       "      <td>2_subjects_certain_presented_newsreels</td>\n",
       "      <td>[subjects, certain, presented, newsreels, dutch, the, amsterdam, netherlands, of, kingdom]</td>\n",
       "      <td>[mother's day [SEP] newsreels dutch subjects certain presented [SEP] images [SEP] kingdom netherlands netherlands kingdom netherlands, huishoudbeurs [SEP] newsreels dutch subjects certain presente...</td>\n",
       "    </tr>\n",
       "    <tr>\n",
       "      <th>3</th>\n",
       "      <td>3</td>\n",
       "      <td>151</td>\n",
       "      <td>3_ship_sailing_helder_ships</td>\n",
       "      <td>[ship, sailing, helder, ships, boat, den, sea, vlissingen, shots, rotterdam]</td>\n",
       "      <td>[official opening of the repair ship \"wilhelmina\". [SEP] image report opening recovery boat wilhelmina gunboat converted rehabilitation home located omval amstel skipper husband pose deck gentleme...</td>\n",
       "    </tr>\n",
       "    <tr>\n",
       "      <th>4</th>\n",
       "      <td>4</td>\n",
       "      <td>156</td>\n",
       "      <td>4_dogs_animal_dog_shots</td>\n",
       "      <td>[dogs, animal, dog, shots, pigeon, animals, eggs, div, cattle, horses]</td>\n",
       "      <td>[tracking dog in the service of the police [SEP] demonstration police dogs haarlem shots policemen walking round police dogs sheepdogs div cus dogs demonstration dog pulling man bike staying offic...</td>\n",
       "    </tr>\n",
       "  </tbody>\n",
       "</table>\n",
       "</div>"
      ],
      "text/plain": [
       "   Topic  Count                                               Name  \\\n",
       "0      0   2316                                0_sep_images_van_de   \n",
       "1      1    957  1_bioscoopjournaals_bepaalde_gepresenteerd_waarin   \n",
       "2      2    327             2_subjects_certain_presented_newsreels   \n",
       "3      3    151                        3_ship_sailing_helder_ships   \n",
       "4      4    156                            4_dogs_animal_dog_shots   \n",
       "\n",
       "                                                                                                         Representation  \\\n",
       "0                                                [sep, images, van, de, kingdom, netherlands, het, quot, rotterdam, in]   \n",
       "1  [bioscoopjournaals, bepaalde, gepresenteerd, waarin, onderwerpen, nederlandse, netherlands, amsterdam, kingdom, sep]   \n",
       "2                            [subjects, certain, presented, newsreels, dutch, the, amsterdam, netherlands, of, kingdom]   \n",
       "3                                          [ship, sailing, helder, ships, boat, den, sea, vlissingen, shots, rotterdam]   \n",
       "4                                                [dogs, animal, dog, shots, pigeon, animals, eggs, div, cattle, horses]   \n",
       "\n",
       "                                                                                                                                                                                       Representative_Docs  \n",
       "0  [tewaterlating van de &quot;jacob van heemskerck&quot; [SEP]  [SEP] images [SEP] kingdom netherlands, nieuws uit west-indie - het vertrek van de &quot;johan maurits&quot; en de aankomst van de &qu...  \n",
       "1  [wielerwedstrijd [SEP] bioscoopjournaals waarin nederlandse onderwerpen bepaalde gepresenteerd [SEP] images [SEP] kingdom netherlands, modeshow [SEP] bioscoopjournaals waarin nederlandse onderwerp...  \n",
       "2  [mother's day [SEP] newsreels dutch subjects certain presented [SEP] images [SEP] kingdom netherlands netherlands kingdom netherlands, huishoudbeurs [SEP] newsreels dutch subjects certain presente...  \n",
       "3  [official opening of the repair ship \"wilhelmina\". [SEP] image report opening recovery boat wilhelmina gunboat converted rehabilitation home located omval amstel skipper husband pose deck gentleme...  \n",
       "4  [tracking dog in the service of the police [SEP] demonstration police dogs haarlem shots policemen walking round police dogs sheepdogs div cus dogs demonstration dog pulling man bike staying offic...  "
      ]
     },
     "execution_count": 73,
     "metadata": {},
     "output_type": "execute_result"
    }
   ],
   "source": [
    "# 🔹 Print topic overview\n",
    "# topic_model.get_topic_info().to_csv(\"../data/topic_model_info.csv\", index=False)\n",
    "topic_model.get_topic_info().head(5)"
   ]
  },
  {
   "cell_type": "code",
   "execution_count": 74,
   "metadata": {},
   "outputs": [
    {
     "data": {
      "text/html": [
       "<div>\n",
       "<style scoped>\n",
       "    .dataframe tbody tr th:only-of-type {\n",
       "        vertical-align: middle;\n",
       "    }\n",
       "\n",
       "    .dataframe tbody tr th {\n",
       "        vertical-align: top;\n",
       "    }\n",
       "\n",
       "    .dataframe thead th {\n",
       "        text-align: right;\n",
       "    }\n",
       "</style>\n",
       "<table border=\"1\" class=\"dataframe\">\n",
       "  <thead>\n",
       "    <tr style=\"text-align: right;\">\n",
       "      <th></th>\n",
       "      <th>Title</th>\n",
       "      <th>Description</th>\n",
       "      <th>Video URL</th>\n",
       "      <th>Europeana URL</th>\n",
       "      <th>Date</th>\n",
       "      <th>Subjects</th>\n",
       "      <th>Places</th>\n",
       "      <th>Provider</th>\n",
       "      <th>docs</th>\n",
       "      <th>Topic</th>\n",
       "      <th>Topic_Probability</th>\n",
       "    </tr>\n",
       "  </thead>\n",
       "  <tbody>\n",
       "    <tr>\n",
       "      <th>0</th>\n",
       "      <td>Wielerwedstrijden In Het Vondelpark</td>\n",
       "      <td>bioscoopjournaals waarin nederlandse onderwerpen bepaalde gepresenteerd</td>\n",
       "      <td>https://www.openbeelden.nl/media/1005287</td>\n",
       "      <td>https://www.europeana.eu/item/2051906/data_euscreenXL_https___www_openbeelden_nl_media_1005287?utm_source=api&amp;utm_medium=api&amp;utm_campaign=illecible</td>\n",
       "      <td>1923-09-21</td>\n",
       "      <td>road bicycle racing images road bicycle racing sports competition sports competition</td>\n",
       "      <td>kingdom netherlands netherlands eurozone</td>\n",
       "      <td>Netherlands Institute for Sound &amp; Vision</td>\n",
       "      <td>wielerwedstrijden in het vondelpark [SEP] bioscoopjournaals waarin nederlandse onderwerpen bepaalde gepresenteerd [SEP] road bicycle racing images road bicycle racing sports competition sports com...</td>\n",
       "      <td>30</td>\n",
       "      <td>0.332084</td>\n",
       "    </tr>\n",
       "  </tbody>\n",
       "</table>\n",
       "</div>"
      ],
      "text/plain": [
       "                                 Title  \\\n",
       "0  Wielerwedstrijden In Het Vondelpark   \n",
       "\n",
       "                                                               Description  \\\n",
       "0  bioscoopjournaals waarin nederlandse onderwerpen bepaalde gepresenteerd   \n",
       "\n",
       "                                  Video URL  \\\n",
       "0  https://www.openbeelden.nl/media/1005287   \n",
       "\n",
       "                                                                                                                                         Europeana URL  \\\n",
       "0  https://www.europeana.eu/item/2051906/data_euscreenXL_https___www_openbeelden_nl_media_1005287?utm_source=api&utm_medium=api&utm_campaign=illecible   \n",
       "\n",
       "         Date  \\\n",
       "0  1923-09-21   \n",
       "\n",
       "                                                                               Subjects  \\\n",
       "0  road bicycle racing images road bicycle racing sports competition sports competition   \n",
       "\n",
       "                                     Places  \\\n",
       "0  kingdom netherlands netherlands eurozone   \n",
       "\n",
       "                                   Provider  \\\n",
       "0  Netherlands Institute for Sound & Vision   \n",
       "\n",
       "                                                                                                                                                                                                      docs  \\\n",
       "0  wielerwedstrijden in het vondelpark [SEP] bioscoopjournaals waarin nederlandse onderwerpen bepaalde gepresenteerd [SEP] road bicycle racing images road bicycle racing sports competition sports com...   \n",
       "\n",
       "   Topic  Topic_Probability  \n",
       "0     30           0.332084  "
      ]
     },
     "execution_count": 74,
     "metadata": {},
     "output_type": "execute_result"
    }
   ],
   "source": [
    "df.head(1)"
   ]
  },
  {
   "cell_type": "code",
   "execution_count": null,
   "metadata": {},
   "outputs": [],
   "source": [
    "# 🔹 Add updated topics to the dataframe\n",
    "df[\"Topic\"] = new_topics\n",
    "\n"
   ]
  },
  {
   "cell_type": "markdown",
   "metadata": {},
   "source": [
    "# SAVE"
   ]
  },
  {
   "cell_type": "code",
   "execution_count": null,
   "metadata": {},
   "outputs": [],
   "source": [
    "# 🔹 Save results\n",
    "df.to_csv(\"../data/full_video_dataset_with_topics.csv\", index=False)"
   ]
  },
  {
   "cell_type": "code",
   "execution_count": 76,
   "metadata": {},
   "outputs": [
    {
     "data": {
      "text/html": [
       "<div>\n",
       "<style scoped>\n",
       "    .dataframe tbody tr th:only-of-type {\n",
       "        vertical-align: middle;\n",
       "    }\n",
       "\n",
       "    .dataframe tbody tr th {\n",
       "        vertical-align: top;\n",
       "    }\n",
       "\n",
       "    .dataframe thead th {\n",
       "        text-align: right;\n",
       "    }\n",
       "</style>\n",
       "<table border=\"1\" class=\"dataframe\">\n",
       "  <thead>\n",
       "    <tr style=\"text-align: right;\">\n",
       "      <th></th>\n",
       "      <th>Topic</th>\n",
       "      <th>Count</th>\n",
       "      <th>Name</th>\n",
       "      <th>Representation</th>\n",
       "      <th>Representative_Docs</th>\n",
       "    </tr>\n",
       "  </thead>\n",
       "  <tbody>\n",
       "    <tr>\n",
       "      <th>0</th>\n",
       "      <td>0</td>\n",
       "      <td>2316</td>\n",
       "      <td>0_sep_images_van_de</td>\n",
       "      <td>[sep, images, van, de, kingdom, netherlands, het, quot, rotterdam, in]</td>\n",
       "      <td>[tewaterlating van de &amp;quot;jacob van heemskerck&amp;quot; [SEP]  [SEP] images [SEP] kingdom netherlands, nieuws uit west-indie - het vertrek van de &amp;quot;johan maurits&amp;quot; en de aankomst van de &amp;qu...</td>\n",
       "    </tr>\n",
       "    <tr>\n",
       "      <th>1</th>\n",
       "      <td>1</td>\n",
       "      <td>957</td>\n",
       "      <td>1_bioscoopjournaals_bepaalde_gepresenteerd_waarin</td>\n",
       "      <td>[bioscoopjournaals, bepaalde, gepresenteerd, waarin, onderwerpen, nederlandse, netherlands, amsterdam, kingdom, sep]</td>\n",
       "      <td>[wielerwedstrijd [SEP] bioscoopjournaals waarin nederlandse onderwerpen bepaalde gepresenteerd [SEP] images [SEP] kingdom netherlands, modeshow [SEP] bioscoopjournaals waarin nederlandse onderwerp...</td>\n",
       "    </tr>\n",
       "    <tr>\n",
       "      <th>2</th>\n",
       "      <td>2</td>\n",
       "      <td>327</td>\n",
       "      <td>2_subjects_certain_presented_newsreels</td>\n",
       "      <td>[subjects, certain, presented, newsreels, dutch, the, amsterdam, netherlands, of, kingdom]</td>\n",
       "      <td>[mother's day [SEP] newsreels dutch subjects certain presented [SEP] images [SEP] kingdom netherlands netherlands kingdom netherlands, huishoudbeurs [SEP] newsreels dutch subjects certain presente...</td>\n",
       "    </tr>\n",
       "    <tr>\n",
       "      <th>3</th>\n",
       "      <td>3</td>\n",
       "      <td>151</td>\n",
       "      <td>3_ship_sailing_helder_ships</td>\n",
       "      <td>[ship, sailing, helder, ships, boat, den, sea, vlissingen, shots, rotterdam]</td>\n",
       "      <td>[official opening of the repair ship \"wilhelmina\". [SEP] image report opening recovery boat wilhelmina gunboat converted rehabilitation home located omval amstel skipper husband pose deck gentleme...</td>\n",
       "    </tr>\n",
       "    <tr>\n",
       "      <th>4</th>\n",
       "      <td>4</td>\n",
       "      <td>156</td>\n",
       "      <td>4_dogs_animal_dog_shots</td>\n",
       "      <td>[dogs, animal, dog, shots, pigeon, animals, eggs, div, cattle, horses]</td>\n",
       "      <td>[tracking dog in the service of the police [SEP] demonstration police dogs haarlem shots policemen walking round police dogs sheepdogs div cus dogs demonstration dog pulling man bike staying offic...</td>\n",
       "    </tr>\n",
       "  </tbody>\n",
       "</table>\n",
       "</div>"
      ],
      "text/plain": [
       "   Topic  Count                                               Name  \\\n",
       "0      0   2316                                0_sep_images_van_de   \n",
       "1      1    957  1_bioscoopjournaals_bepaalde_gepresenteerd_waarin   \n",
       "2      2    327             2_subjects_certain_presented_newsreels   \n",
       "3      3    151                        3_ship_sailing_helder_ships   \n",
       "4      4    156                            4_dogs_animal_dog_shots   \n",
       "\n",
       "                                                                                                         Representation  \\\n",
       "0                                                [sep, images, van, de, kingdom, netherlands, het, quot, rotterdam, in]   \n",
       "1  [bioscoopjournaals, bepaalde, gepresenteerd, waarin, onderwerpen, nederlandse, netherlands, amsterdam, kingdom, sep]   \n",
       "2                            [subjects, certain, presented, newsreels, dutch, the, amsterdam, netherlands, of, kingdom]   \n",
       "3                                          [ship, sailing, helder, ships, boat, den, sea, vlissingen, shots, rotterdam]   \n",
       "4                                                [dogs, animal, dog, shots, pigeon, animals, eggs, div, cattle, horses]   \n",
       "\n",
       "                                                                                                                                                                                       Representative_Docs  \n",
       "0  [tewaterlating van de &quot;jacob van heemskerck&quot; [SEP]  [SEP] images [SEP] kingdom netherlands, nieuws uit west-indie - het vertrek van de &quot;johan maurits&quot; en de aankomst van de &qu...  \n",
       "1  [wielerwedstrijd [SEP] bioscoopjournaals waarin nederlandse onderwerpen bepaalde gepresenteerd [SEP] images [SEP] kingdom netherlands, modeshow [SEP] bioscoopjournaals waarin nederlandse onderwerp...  \n",
       "2  [mother's day [SEP] newsreels dutch subjects certain presented [SEP] images [SEP] kingdom netherlands netherlands kingdom netherlands, huishoudbeurs [SEP] newsreels dutch subjects certain presente...  \n",
       "3  [official opening of the repair ship \"wilhelmina\". [SEP] image report opening recovery boat wilhelmina gunboat converted rehabilitation home located omval amstel skipper husband pose deck gentleme...  \n",
       "4  [tracking dog in the service of the police [SEP] demonstration police dogs haarlem shots policemen walking round police dogs sheepdogs div cus dogs demonstration dog pulling man bike staying offic...  "
      ]
     },
     "execution_count": 76,
     "metadata": {},
     "output_type": "execute_result"
    }
   ],
   "source": [
    "# 🔹 Print topic overview\n",
    "topic_model.get_topic_info().to_csv(\"../data/topic_model_info.csv\", index=False)\n",
    "topic_model.get_topic_info().head(5)"
   ]
  },
  {
   "cell_type": "code",
   "execution_count": 77,
   "metadata": {},
   "outputs": [],
   "source": [
    "# Method 1 - safetensors\n",
    "embedding_model = \"sentence-transformers/all-MiniLM-L6-v2\"\n",
    "topic_model.save(\"../data/model\", serialization=\"safetensors\", save_ctfidf=True, save_embedding_model=embedding_model)\n"
   ]
  },
  {
   "cell_type": "code",
   "execution_count": null,
   "metadata": {},
   "outputs": [],
   "source": []
  },
  {
   "cell_type": "markdown",
   "metadata": {},
   "source": [
    "# Evaluate and choose\n"
   ]
  },
  {
   "cell_type": "code",
   "execution_count": 84,
   "metadata": {},
   "outputs": [],
   "source": [
    "df_topic_info  = pd.read_csv(\"../data/topic_model_info_v2_relevant.csv\")"
   ]
  },
  {
   "cell_type": "code",
   "execution_count": 85,
   "metadata": {},
   "outputs": [
    {
     "data": {
      "text/html": [
       "<div>\n",
       "<style scoped>\n",
       "    .dataframe tbody tr th:only-of-type {\n",
       "        vertical-align: middle;\n",
       "    }\n",
       "\n",
       "    .dataframe tbody tr th {\n",
       "        vertical-align: top;\n",
       "    }\n",
       "\n",
       "    .dataframe thead th {\n",
       "        text-align: right;\n",
       "    }\n",
       "</style>\n",
       "<table border=\"1\" class=\"dataframe\">\n",
       "  <thead>\n",
       "    <tr style=\"text-align: right;\">\n",
       "      <th></th>\n",
       "      <th>Topic</th>\n",
       "      <th>Count</th>\n",
       "      <th>Name</th>\n",
       "      <th>Representation</th>\n",
       "      <th>Trans</th>\n",
       "      <th>Relevant</th>\n",
       "      <th>Representative_Docs</th>\n",
       "    </tr>\n",
       "  </thead>\n",
       "  <tbody>\n",
       "    <tr>\n",
       "      <th>0</th>\n",
       "      <td>0</td>\n",
       "      <td>2316</td>\n",
       "      <td>0_sep_images_van_de</td>\n",
       "      <td>['sep', 'images', 'van', 'de', 'kingdom', 'netherlands', 'het', 'quot', 'rotterdam', 'in']</td>\n",
       "      <td>['sep', 'images', 'van', 'de', 'kingdom', 'netherlands', 'het', 'quot', 'rotterdam', 'in']</td>\n",
       "      <td>1</td>\n",
       "      <td>['tewaterlating van de &amp;quot;jacob van heemskerck&amp;quot; [SEP]  [SEP] images [SEP] kingdom netherlands', 'nieuws uit west-indie - het vertrek van de &amp;quot;johan maurits&amp;quot; en de aankomst van de ...</td>\n",
       "    </tr>\n",
       "    <tr>\n",
       "      <th>1</th>\n",
       "      <td>1</td>\n",
       "      <td>957</td>\n",
       "      <td>1_bioscoopjournaals_bepaalde_gepresenteerd_waarin</td>\n",
       "      <td>['bioscoopjournaals', 'bepaalde', 'gepresenteerd', 'waarin', 'onderwerpen', 'nederlandse', 'netherlands', 'amsterdam', 'kingdom', 'sep']</td>\n",
       "      <td>['newsreels', 'certain', 'presented', 'in which', 'subjects', 'dutch', 'netherlands', 'amsterdam', 'kingdom', 'sep']</td>\n",
       "      <td>0</td>\n",
       "      <td>['wielerwedstrijd [SEP] bioscoopjournaals waarin nederlandse onderwerpen bepaalde gepresenteerd [SEP] images [SEP] kingdom netherlands', 'modeshow [SEP] bioscoopjournaals waarin nederlandse onderw...</td>\n",
       "    </tr>\n",
       "    <tr>\n",
       "      <th>2</th>\n",
       "      <td>2</td>\n",
       "      <td>327</td>\n",
       "      <td>2_subjects_certain_presented_newsreels</td>\n",
       "      <td>['subjects', 'certain', 'presented', 'newsreels', 'dutch', 'the', 'amsterdam', 'netherlands', 'of', 'kingdom']</td>\n",
       "      <td>['subjects', 'certain', 'presented', 'newsreels', 'dutch', 'the', 'amsterdam', 'netherlands', 'of', 'kingdom']</td>\n",
       "      <td>0</td>\n",
       "      <td>[\"mother's day [SEP] newsreels dutch subjects certain presented [SEP] images [SEP] kingdom netherlands netherlands kingdom netherlands\", 'huishoudbeurs [SEP] newsreels dutch subjects certain prese...</td>\n",
       "    </tr>\n",
       "    <tr>\n",
       "      <th>3</th>\n",
       "      <td>3</td>\n",
       "      <td>151</td>\n",
       "      <td>3_ship_sailing_helder_ships</td>\n",
       "      <td>['ship', 'sailing', 'helder', 'ships', 'boat', 'den', 'sea', 'vlissingen', 'shots', 'rotterdam']</td>\n",
       "      <td>['ship', 'sailing', 'helder', 'ships', 'boat', 'den', 'sea', 'vlissingen', 'shots', 'rotterdam']</td>\n",
       "      <td>1</td>\n",
       "      <td>['official opening of the repair ship \"wilhelmina\". [SEP] image report opening recovery boat wilhelmina gunboat converted rehabilitation home located omval amstel skipper husband pose deck gentlem...</td>\n",
       "    </tr>\n",
       "    <tr>\n",
       "      <th>4</th>\n",
       "      <td>4</td>\n",
       "      <td>156</td>\n",
       "      <td>4_dogs_animal_dog_shots</td>\n",
       "      <td>['dogs', 'animal', 'dog', 'shots', 'pigeon', 'animals', 'eggs', 'div', 'cattle', 'horses']</td>\n",
       "      <td>['dogs', 'animal', 'dog', 'shots', 'pigeon', 'animals', 'eggs', 'div', 'cattle', 'horses']</td>\n",
       "      <td>0</td>\n",
       "      <td>['tracking dog in the service of the police [SEP] demonstration police dogs haarlem shots policemen walking round police dogs sheepdogs div cus dogs demonstration dog pulling man bike staying offi...</td>\n",
       "    </tr>\n",
       "    <tr>\n",
       "      <th>5</th>\n",
       "      <td>5</td>\n",
       "      <td>148</td>\n",
       "      <td>5_football_association_voetbalwedstrijd_stadion</td>\n",
       "      <td>['football', 'association', 'voetbalwedstrijd', 'stadion', 'nederland', 'sep', 'sports', 'het', 'images', 'cue']</td>\n",
       "      <td>['football', 'association', 'football match', 'stadium', 'netherlands', 'sep', 'sports', 'it', 'images', 'cue']</td>\n",
       "      <td>0</td>\n",
       "      <td>['voetbalwedstrijd [SEP]  [SEP] association football images [SEP] kingdom netherlands', 'voetbalwedstrijd holland-belgië [SEP]  [SEP] association football images association football [SEP] amsterd...</td>\n",
       "    </tr>\n",
       "    <tr>\n",
       "      <th>6</th>\n",
       "      <td>6</td>\n",
       "      <td>130</td>\n",
       "      <td>6_bridge_train_railway_steam</td>\n",
       "      <td>['bridge', 'train', 'railway', 'steam', 'station', 'construction', 'shots', 'lock', 'the', 'locomotive']</td>\n",
       "      <td>['bridge', 'train', 'railway', 'steam', 'station', 'construction', 'shots', 'lock', 'the', 'locomotive']</td>\n",
       "      <td>1</td>\n",
       "      <td>['first coal train from germany crosses the meuse at roermond [SEP] mr wg sonsbeeck queens commissioner limburg opens new railway bridge maas near buggenum train german coal enters netherlands bri...</td>\n",
       "    </tr>\n",
       "    <tr>\n",
       "      <th>7</th>\n",
       "      <td>7</td>\n",
       "      <td>115</td>\n",
       "      <td>7_equestrian_sport_hippique_concours</td>\n",
       "      <td>['equestrian', 'sport', 'hippique', 'concours', 'cross', 'country', 'horse', 'amersfoort', 'jachtvereniging', 'sep']</td>\n",
       "      <td>['equestrian', 'sport', 'equestrian', 'competition', 'cross', 'country', 'horse', 'amersfoort', 'hunting club', 'sep']</td>\n",
       "      <td>0</td>\n",
       "      <td>['cross-country [SEP]  [SEP] equestrian sport images [SEP] kingdom netherlands', 'concours hippique [SEP]  [SEP] equestrian event equestrian sport images equestrian sport [SEP] bussum', 'cross-cou...</td>\n",
       "    </tr>\n",
       "    <tr>\n",
       "      <th>8</th>\n",
       "      <td>8</td>\n",
       "      <td>111</td>\n",
       "      <td>8_racing_bicycle_race_assen</td>\n",
       "      <td>['racing', 'bicycle', 'race', 'assen', 'races', 'cycling', 'road', 'auto', 'tt', 'start']</td>\n",
       "      <td>['racing', 'bicycle', 'race', 'assen', 'races', 'cycling', 'road', 'auto', 'tt', 'start']</td>\n",
       "      <td>0</td>\n",
       "      <td>['internationale wielerwedstrijden [SEP]  [SEP] road bicycle racing images road bicycle racing [SEP] kingdom netherlands netherlands eurozone', 'wereldkampioenschappen op de weg [SEP]  [SEP] road ...</td>\n",
       "    </tr>\n",
       "    <tr>\n",
       "      <th>9</th>\n",
       "      <td>9</td>\n",
       "      <td>69</td>\n",
       "      <td>9_japanse_propagandafilm_propaganda_japans</td>\n",
       "      <td>['japanse', 'propagandafilm', 'propaganda', 'japans', 'indonesische', 'japan', 'place', 'indonesia', 'journaal', 'java']</td>\n",
       "      <td>['japanese', 'propaganda film', 'propaganda', 'japanese', 'indonesian', 'japan', 'place', 'indonesia', 'news', 'java']</td>\n",
       "      <td>1</td>\n",
       "      <td>['japanse industrieen [SEP] japanse propagandafilm film japanse vvv fabricage souvenirs [SEP] porcelain images propaganda [SEP] japan', 'djagalah tanah djawa (bewaak java) [SEP] japanse propaganda...</td>\n",
       "    </tr>\n",
       "  </tbody>\n",
       "</table>\n",
       "</div>"
      ],
      "text/plain": [
       "   Topic  Count                                               Name  \\\n",
       "0      0   2316                                0_sep_images_van_de   \n",
       "1      1    957  1_bioscoopjournaals_bepaalde_gepresenteerd_waarin   \n",
       "2      2    327             2_subjects_certain_presented_newsreels   \n",
       "3      3    151                        3_ship_sailing_helder_ships   \n",
       "4      4    156                            4_dogs_animal_dog_shots   \n",
       "5      5    148    5_football_association_voetbalwedstrijd_stadion   \n",
       "6      6    130                       6_bridge_train_railway_steam   \n",
       "7      7    115               7_equestrian_sport_hippique_concours   \n",
       "8      8    111                        8_racing_bicycle_race_assen   \n",
       "9      9     69         9_japanse_propagandafilm_propaganda_japans   \n",
       "\n",
       "                                                                                                                             Representation  \\\n",
       "0                                                ['sep', 'images', 'van', 'de', 'kingdom', 'netherlands', 'het', 'quot', 'rotterdam', 'in']   \n",
       "1  ['bioscoopjournaals', 'bepaalde', 'gepresenteerd', 'waarin', 'onderwerpen', 'nederlandse', 'netherlands', 'amsterdam', 'kingdom', 'sep']   \n",
       "2                            ['subjects', 'certain', 'presented', 'newsreels', 'dutch', 'the', 'amsterdam', 'netherlands', 'of', 'kingdom']   \n",
       "3                                          ['ship', 'sailing', 'helder', 'ships', 'boat', 'den', 'sea', 'vlissingen', 'shots', 'rotterdam']   \n",
       "4                                                ['dogs', 'animal', 'dog', 'shots', 'pigeon', 'animals', 'eggs', 'div', 'cattle', 'horses']   \n",
       "5                          ['football', 'association', 'voetbalwedstrijd', 'stadion', 'nederland', 'sep', 'sports', 'het', 'images', 'cue']   \n",
       "6                                  ['bridge', 'train', 'railway', 'steam', 'station', 'construction', 'shots', 'lock', 'the', 'locomotive']   \n",
       "7                      ['equestrian', 'sport', 'hippique', 'concours', 'cross', 'country', 'horse', 'amersfoort', 'jachtvereniging', 'sep']   \n",
       "8                                                 ['racing', 'bicycle', 'race', 'assen', 'races', 'cycling', 'road', 'auto', 'tt', 'start']   \n",
       "9                  ['japanse', 'propagandafilm', 'propaganda', 'japans', 'indonesische', 'japan', 'place', 'indonesia', 'journaal', 'java']   \n",
       "\n",
       "                                                                                                                    Trans  \\\n",
       "0                              ['sep', 'images', 'van', 'de', 'kingdom', 'netherlands', 'het', 'quot', 'rotterdam', 'in']   \n",
       "1    ['newsreels', 'certain', 'presented', 'in which', 'subjects', 'dutch', 'netherlands', 'amsterdam', 'kingdom', 'sep']   \n",
       "2          ['subjects', 'certain', 'presented', 'newsreels', 'dutch', 'the', 'amsterdam', 'netherlands', 'of', 'kingdom']   \n",
       "3                        ['ship', 'sailing', 'helder', 'ships', 'boat', 'den', 'sea', 'vlissingen', 'shots', 'rotterdam']   \n",
       "4                              ['dogs', 'animal', 'dog', 'shots', 'pigeon', 'animals', 'eggs', 'div', 'cattle', 'horses']   \n",
       "5         ['football', 'association', 'football match', 'stadium', 'netherlands', 'sep', 'sports', 'it', 'images', 'cue']   \n",
       "6                ['bridge', 'train', 'railway', 'steam', 'station', 'construction', 'shots', 'lock', 'the', 'locomotive']   \n",
       "7  ['equestrian', 'sport', 'equestrian', 'competition', 'cross', 'country', 'horse', 'amersfoort', 'hunting club', 'sep']   \n",
       "8                               ['racing', 'bicycle', 'race', 'assen', 'races', 'cycling', 'road', 'auto', 'tt', 'start']   \n",
       "9  ['japanese', 'propaganda film', 'propaganda', 'japanese', 'indonesian', 'japan', 'place', 'indonesia', 'news', 'java']   \n",
       "\n",
       "   Relevant  \\\n",
       "0         1   \n",
       "1         0   \n",
       "2         0   \n",
       "3         1   \n",
       "4         0   \n",
       "5         0   \n",
       "6         1   \n",
       "7         0   \n",
       "8         0   \n",
       "9         1   \n",
       "\n",
       "                                                                                                                                                                                       Representative_Docs  \n",
       "0  ['tewaterlating van de &quot;jacob van heemskerck&quot; [SEP]  [SEP] images [SEP] kingdom netherlands', 'nieuws uit west-indie - het vertrek van de &quot;johan maurits&quot; en de aankomst van de ...  \n",
       "1  ['wielerwedstrijd [SEP] bioscoopjournaals waarin nederlandse onderwerpen bepaalde gepresenteerd [SEP] images [SEP] kingdom netherlands', 'modeshow [SEP] bioscoopjournaals waarin nederlandse onderw...  \n",
       "2  [\"mother's day [SEP] newsreels dutch subjects certain presented [SEP] images [SEP] kingdom netherlands netherlands kingdom netherlands\", 'huishoudbeurs [SEP] newsreels dutch subjects certain prese...  \n",
       "3  ['official opening of the repair ship \"wilhelmina\". [SEP] image report opening recovery boat wilhelmina gunboat converted rehabilitation home located omval amstel skipper husband pose deck gentlem...  \n",
       "4  ['tracking dog in the service of the police [SEP] demonstration police dogs haarlem shots policemen walking round police dogs sheepdogs div cus dogs demonstration dog pulling man bike staying offi...  \n",
       "5  ['voetbalwedstrijd [SEP]  [SEP] association football images [SEP] kingdom netherlands', 'voetbalwedstrijd holland-belgië [SEP]  [SEP] association football images association football [SEP] amsterd...  \n",
       "6  ['first coal train from germany crosses the meuse at roermond [SEP] mr wg sonsbeeck queens commissioner limburg opens new railway bridge maas near buggenum train german coal enters netherlands bri...  \n",
       "7  ['cross-country [SEP]  [SEP] equestrian sport images [SEP] kingdom netherlands', 'concours hippique [SEP]  [SEP] equestrian event equestrian sport images equestrian sport [SEP] bussum', 'cross-cou...  \n",
       "8  ['internationale wielerwedstrijden [SEP]  [SEP] road bicycle racing images road bicycle racing [SEP] kingdom netherlands netherlands eurozone', 'wereldkampioenschappen op de weg [SEP]  [SEP] road ...  \n",
       "9  ['japanse industrieen [SEP] japanse propagandafilm film japanse vvv fabricage souvenirs [SEP] porcelain images propaganda [SEP] japan', 'djagalah tanah djawa (bewaak java) [SEP] japanse propaganda...  "
      ]
     },
     "execution_count": 85,
     "metadata": {},
     "output_type": "execute_result"
    }
   ],
   "source": [
    "df_topic_info .head(10)"
   ]
  },
  {
   "cell_type": "code",
   "execution_count": null,
   "metadata": {},
   "outputs": [],
   "source": []
  },
  {
   "cell_type": "code",
   "execution_count": 86,
   "metadata": {},
   "outputs": [
    {
     "name": "stdout",
     "output_type": "stream",
     "text": [
      "✅ Saved 3593 relevant records to 'full_video_dataset_relevant.csv'\n",
      "✅ Saved 2828 non-relevant records to 'full_video_dataset_non_relevant.csv'\n"
     ]
    }
   ],
   "source": [
    "# 🔹 Extract lists of relevant and non-relevant topics\n",
    "relevant_topics = df_topic_info[df_topic_info[\"Relevant\"] == 1][\"Topic\"].tolist()\n",
    "non_relevant_topics = df_topic_info[df_topic_info[\"Relevant\"] == 0][\"Topic\"].tolist()\n",
    "\n",
    "# 🔹 Split dataset based on topic relevance\n",
    "df_1 = df[df[\"Topic\"].isin(relevant_topics)]\n",
    "df_0 = df[df[\"Topic\"].isin(non_relevant_topics)]\n",
    "\n",
    "# 🔹 Save each dataframe separately\n",
    "df_1.to_csv(\"../data/full_video_dataset_relevant.csv\", index=False)\n",
    "df_0.to_csv(\"../data/full_video_dataset_non_relevant.csv\", index=False)\n",
    "\n",
    "print(f\"✅ Saved {len(df_1)} relevant records to 'full_video_dataset_relevant.csv'\")\n",
    "print(f\"✅ Saved {len(df_0)} non-relevant records to 'full_video_dataset_non_relevant.csv'\")"
   ]
  },
  {
   "cell_type": "code",
   "execution_count": null,
   "metadata": {},
   "outputs": [],
   "source": []
  }
 ],
 "metadata": {
  "kernelspec": {
   "display_name": "imagesBERT",
   "language": "python",
   "name": "python3"
  },
  "language_info": {
   "codemirror_mode": {
    "name": "ipython",
    "version": 3
   },
   "file_extension": ".py",
   "mimetype": "text/x-python",
   "name": "python",
   "nbconvert_exporter": "python",
   "pygments_lexer": "ipython3",
   "version": "3.9.21"
  }
 },
 "nbformat": 4,
 "nbformat_minor": 2
}
